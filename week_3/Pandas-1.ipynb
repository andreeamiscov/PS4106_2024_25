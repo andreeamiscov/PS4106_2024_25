{
 "cells": [
  {
   "cell_type": "markdown",
   "metadata": {},
   "source": [
    "# PANDAS\n",
    "\n",
    "A high-level overview of the [Pandas](https://pandas.pydata.org) library.\n",
    "\n",
    "\n",
    "## Why `pandas`?\n",
    "\n",
    " `pandas` is a Python library used for data manipulation and analysis. `pandas` is an industrial strength package that is used in most data analysis projects in the real world.  Learning how to use pandas would also make your projects easier to understand for other data scientists and extend the scope of influence your projects may have.\n",
    "\n"
   ]
  },
  {
   "cell_type": "code",
   "execution_count": 1,
   "metadata": {},
   "outputs": [],
   "source": [
    "%matplotlib inline\n",
    "import matplotlib.pyplot as plt\n",
    "import seaborn as sns\n",
    "import numpy as np\n",
    "import pandas as pd\n",
    "\n",
    "plt.style.use('fivethirtyeight')\n",
    "#sns.set_context(\"notebook\")"
   ]
  },
  {
   "cell_type": "markdown",
   "metadata": {},
   "source": [
    "![alt text](pandas_illustration.jpeg)"
   ]
  },
  {
   "cell_type": "markdown",
   "metadata": {},
   "source": [
    "# Series\n",
    "\n",
    "A \"series\" is the building block of pandas data.   It can acts kinda like a \"dictionary\"  (a dictionary is also special  type in python).   They are very useful.  For Pandas the \"index\" is used to identify things. \n"
   ]
  },
  {
   "cell_type": "code",
   "execution_count": 2,
   "metadata": {},
   "outputs": [
    {
     "data": {
      "text/plain": [
       "a    0.25\n",
       "b    0.50\n",
       "c    0.75\n",
       "d    1.00\n",
       "dtype: float64"
      ]
     },
     "execution_count": 2,
     "metadata": {},
     "output_type": "execute_result"
    }
   ],
   "source": [
    "data = pd.Series([0.25, 0.5, 0.75, 1.0],\n",
    "                 index=['a', 'b', 'c', 'd'])\n",
    "data"
   ]
  },
  {
   "cell_type": "code",
   "execution_count": 3,
   "metadata": {},
   "outputs": [
    {
     "data": {
      "text/plain": [
       "0.5"
      ]
     },
     "execution_count": 3,
     "metadata": {},
     "output_type": "execute_result"
    }
   ],
   "source": [
    "data['b']"
   ]
  },
  {
   "cell_type": "code",
   "execution_count": 4,
   "metadata": {},
   "outputs": [
    {
     "data": {
      "text/plain": [
       "True"
      ]
     },
     "execution_count": 4,
     "metadata": {},
     "output_type": "execute_result"
    }
   ],
   "source": [
    "'a' in data"
   ]
  },
  {
   "cell_type": "code",
   "execution_count": 5,
   "metadata": {},
   "outputs": [
    {
     "data": {
      "text/plain": [
       "Index(['a', 'b', 'c', 'd'], dtype='object')"
      ]
     },
     "execution_count": 5,
     "metadata": {},
     "output_type": "execute_result"
    }
   ],
   "source": [
    "data.keys()"
   ]
  },
  {
   "cell_type": "markdown",
   "metadata": {},
   "source": [
    "Extending/adding to a series:"
   ]
  },
  {
   "cell_type": "code",
   "execution_count": 6,
   "metadata": {},
   "outputs": [
    {
     "data": {
      "text/plain": [
       "a    0.25\n",
       "b    0.50\n",
       "c    0.75\n",
       "d    1.00\n",
       "e    1.25\n",
       "dtype: float64"
      ]
     },
     "execution_count": 6,
     "metadata": {},
     "output_type": "execute_result"
    }
   ],
   "source": [
    "data['e'] = 1.25\n",
    "data"
   ]
  },
  {
   "cell_type": "markdown",
   "metadata": {},
   "source": [
    "We made a series above.  Let's make a simple dataframe from 2 series. "
   ]
  },
  {
   "cell_type": "code",
   "execution_count": 7,
   "metadata": {},
   "outputs": [
    {
     "data": {
      "text/html": [
       "<div>\n",
       "<style scoped>\n",
       "    .dataframe tbody tr th:only-of-type {\n",
       "        vertical-align: middle;\n",
       "    }\n",
       "\n",
       "    .dataframe tbody tr th {\n",
       "        vertical-align: top;\n",
       "    }\n",
       "\n",
       "    .dataframe thead th {\n",
       "        text-align: right;\n",
       "    }\n",
       "</style>\n",
       "<table border=\"1\" class=\"dataframe\">\n",
       "  <thead>\n",
       "    <tr style=\"text-align: right;\">\n",
       "      <th></th>\n",
       "      <th>Key</th>\n",
       "      <th>Author</th>\n",
       "      <th>Book Title</th>\n",
       "    </tr>\n",
       "  </thead>\n",
       "  <tbody>\n",
       "    <tr>\n",
       "      <th>0</th>\n",
       "      <td>1</td>\n",
       "      <td>Dr Seuss</td>\n",
       "      <td>cat in the hat</td>\n",
       "    </tr>\n",
       "    <tr>\n",
       "      <th>1</th>\n",
       "      <td>2</td>\n",
       "      <td>Stephen King</td>\n",
       "      <td>It</td>\n",
       "    </tr>\n",
       "  </tbody>\n",
       "</table>\n",
       "</div>"
      ],
      "text/plain": [
       "   Key        Author      Book Title\n",
       "0    1      Dr Seuss  cat in the hat\n",
       "1    2  Stephen King              It"
      ]
     },
     "execution_count": 7,
     "metadata": {},
     "output_type": "execute_result"
    }
   ],
   "source": [
    "\n",
    "#There are many ways to make data frames.  Here I use the python \"dictionary\" type \n",
    "# indicated by the curly braces {}.  Each column is named with the \"key\" field, and there is a list []\n",
    "# \n",
    "myDictionary = {\n",
    "    \"Key\": [1,2],\n",
    "    \"Author\": [\"Dr Seuss\",\"Stephen King\"], \n",
    "    \"Book Title\": [\"cat in the hat\",\"It\"]\n",
    "}\n",
    "\n",
    "df = pd.DataFrame( myDictionary )\n",
    "\n",
    "df"
   ]
  },
  {
   "cell_type": "markdown",
   "metadata": {},
   "source": [
    "## Reading in DataFrames from Files"
   ]
  },
  {
   "cell_type": "markdown",
   "metadata": {},
   "source": [
    "Pandas has a number of very useful file reading tools. This link describes manu https://realpython.com/pandas-read-write-files/ Today we'll be using read_csv today.   Another very useful one is the ability to read excel files. \n",
    "\n",
    "\n",
    "A \"csv\" file is a \"comma separated value\" file.  It's a nice and simple text format that separates things in the files by commas.  For example:\n",
    "Participant,ResponseTime\n",
    "1,0.50\n",
    "2,.0386\n",
    "\n",
    "This is a fairly common file format that can be read by almost every program (e.g. excel, SPSS, python, R)\n",
    "\n",
    "\n",
    "Pandas stores things in something known as a \"dataframe\". \n"
   ]
  },
  {
   "cell_type": "code",
   "execution_count": 8,
   "metadata": {
    "scrolled": true
   },
   "outputs": [
    {
     "data": {
      "text/html": [
       "<div>\n",
       "<style scoped>\n",
       "    .dataframe tbody tr th:only-of-type {\n",
       "        vertical-align: middle;\n",
       "    }\n",
       "\n",
       "    .dataframe tbody tr th {\n",
       "        vertical-align: top;\n",
       "    }\n",
       "\n",
       "    .dataframe thead th {\n",
       "        text-align: right;\n",
       "    }\n",
       "</style>\n",
       "<table border=\"1\" class=\"dataframe\">\n",
       "  <thead>\n",
       "    <tr style=\"text-align: right;\">\n",
       "      <th></th>\n",
       "      <th>Candidate</th>\n",
       "      <th>Party</th>\n",
       "      <th>%</th>\n",
       "      <th>Year</th>\n",
       "      <th>Result</th>\n",
       "    </tr>\n",
       "  </thead>\n",
       "  <tbody>\n",
       "    <tr>\n",
       "      <th>0</th>\n",
       "      <td>Reagan</td>\n",
       "      <td>Republican</td>\n",
       "      <td>50.7</td>\n",
       "      <td>1980</td>\n",
       "      <td>win</td>\n",
       "    </tr>\n",
       "    <tr>\n",
       "      <th>1</th>\n",
       "      <td>Carter</td>\n",
       "      <td>Democratic</td>\n",
       "      <td>41.0</td>\n",
       "      <td>1980</td>\n",
       "      <td>loss</td>\n",
       "    </tr>\n",
       "    <tr>\n",
       "      <th>2</th>\n",
       "      <td>Anderson</td>\n",
       "      <td>Independent</td>\n",
       "      <td>6.6</td>\n",
       "      <td>1980</td>\n",
       "      <td>loss</td>\n",
       "    </tr>\n",
       "    <tr>\n",
       "      <th>3</th>\n",
       "      <td>Reagan</td>\n",
       "      <td>Republican</td>\n",
       "      <td>58.8</td>\n",
       "      <td>1984</td>\n",
       "      <td>win</td>\n",
       "    </tr>\n",
       "    <tr>\n",
       "      <th>4</th>\n",
       "      <td>Mondale</td>\n",
       "      <td>Democratic</td>\n",
       "      <td>37.6</td>\n",
       "      <td>1984</td>\n",
       "      <td>loss</td>\n",
       "    </tr>\n",
       "    <tr>\n",
       "      <th>5</th>\n",
       "      <td>Bush</td>\n",
       "      <td>Republican</td>\n",
       "      <td>53.4</td>\n",
       "      <td>1988</td>\n",
       "      <td>win</td>\n",
       "    </tr>\n",
       "    <tr>\n",
       "      <th>6</th>\n",
       "      <td>Dukakis</td>\n",
       "      <td>Democratic</td>\n",
       "      <td>45.6</td>\n",
       "      <td>1988</td>\n",
       "      <td>loss</td>\n",
       "    </tr>\n",
       "    <tr>\n",
       "      <th>7</th>\n",
       "      <td>Clinton</td>\n",
       "      <td>Democratic</td>\n",
       "      <td>43.0</td>\n",
       "      <td>1992</td>\n",
       "      <td>win</td>\n",
       "    </tr>\n",
       "    <tr>\n",
       "      <th>8</th>\n",
       "      <td>Bush</td>\n",
       "      <td>Republican</td>\n",
       "      <td>37.4</td>\n",
       "      <td>1992</td>\n",
       "      <td>loss</td>\n",
       "    </tr>\n",
       "    <tr>\n",
       "      <th>9</th>\n",
       "      <td>Perot</td>\n",
       "      <td>Independent</td>\n",
       "      <td>18.9</td>\n",
       "      <td>1992</td>\n",
       "      <td>loss</td>\n",
       "    </tr>\n",
       "    <tr>\n",
       "      <th>10</th>\n",
       "      <td>Clinton</td>\n",
       "      <td>Democratic</td>\n",
       "      <td>49.2</td>\n",
       "      <td>1996</td>\n",
       "      <td>win</td>\n",
       "    </tr>\n",
       "    <tr>\n",
       "      <th>11</th>\n",
       "      <td>Dole</td>\n",
       "      <td>Republican</td>\n",
       "      <td>40.7</td>\n",
       "      <td>1996</td>\n",
       "      <td>loss</td>\n",
       "    </tr>\n",
       "    <tr>\n",
       "      <th>12</th>\n",
       "      <td>Perot</td>\n",
       "      <td>Independent</td>\n",
       "      <td>8.4</td>\n",
       "      <td>1996</td>\n",
       "      <td>loss</td>\n",
       "    </tr>\n",
       "    <tr>\n",
       "      <th>13</th>\n",
       "      <td>Gore</td>\n",
       "      <td>Democratic</td>\n",
       "      <td>48.4</td>\n",
       "      <td>2000</td>\n",
       "      <td>loss</td>\n",
       "    </tr>\n",
       "    <tr>\n",
       "      <th>14</th>\n",
       "      <td>Bush</td>\n",
       "      <td>Republican</td>\n",
       "      <td>47.9</td>\n",
       "      <td>2000</td>\n",
       "      <td>win</td>\n",
       "    </tr>\n",
       "    <tr>\n",
       "      <th>15</th>\n",
       "      <td>Kerry</td>\n",
       "      <td>Democratic</td>\n",
       "      <td>48.3</td>\n",
       "      <td>2004</td>\n",
       "      <td>loss</td>\n",
       "    </tr>\n",
       "    <tr>\n",
       "      <th>16</th>\n",
       "      <td>Bush</td>\n",
       "      <td>Republican</td>\n",
       "      <td>50.7</td>\n",
       "      <td>2004</td>\n",
       "      <td>win</td>\n",
       "    </tr>\n",
       "    <tr>\n",
       "      <th>17</th>\n",
       "      <td>Obama</td>\n",
       "      <td>Democratic</td>\n",
       "      <td>52.9</td>\n",
       "      <td>2008</td>\n",
       "      <td>win</td>\n",
       "    </tr>\n",
       "    <tr>\n",
       "      <th>18</th>\n",
       "      <td>McCain</td>\n",
       "      <td>Republican</td>\n",
       "      <td>45.7</td>\n",
       "      <td>2008</td>\n",
       "      <td>loss</td>\n",
       "    </tr>\n",
       "    <tr>\n",
       "      <th>19</th>\n",
       "      <td>Obama</td>\n",
       "      <td>Democratic</td>\n",
       "      <td>51.1</td>\n",
       "      <td>2012</td>\n",
       "      <td>win</td>\n",
       "    </tr>\n",
       "    <tr>\n",
       "      <th>20</th>\n",
       "      <td>Romney</td>\n",
       "      <td>Republican</td>\n",
       "      <td>47.2</td>\n",
       "      <td>2012</td>\n",
       "      <td>loss</td>\n",
       "    </tr>\n",
       "    <tr>\n",
       "      <th>21</th>\n",
       "      <td>Clinton</td>\n",
       "      <td>Democratic</td>\n",
       "      <td>48.2</td>\n",
       "      <td>2016</td>\n",
       "      <td>loss</td>\n",
       "    </tr>\n",
       "    <tr>\n",
       "      <th>22</th>\n",
       "      <td>Trump</td>\n",
       "      <td>Republican</td>\n",
       "      <td>46.1</td>\n",
       "      <td>2016</td>\n",
       "      <td>win</td>\n",
       "    </tr>\n",
       "    <tr>\n",
       "      <th>23</th>\n",
       "      <td>Biden</td>\n",
       "      <td>Democratic</td>\n",
       "      <td>51.3</td>\n",
       "      <td>2020</td>\n",
       "      <td>win</td>\n",
       "    </tr>\n",
       "    <tr>\n",
       "      <th>24</th>\n",
       "      <td>Trump</td>\n",
       "      <td>Republican</td>\n",
       "      <td>46.8</td>\n",
       "      <td>2020</td>\n",
       "      <td>loss</td>\n",
       "    </tr>\n",
       "  </tbody>\n",
       "</table>\n",
       "</div>"
      ],
      "text/plain": [
       "   Candidate        Party     %  Year Result\n",
       "0     Reagan   Republican  50.7  1980    win\n",
       "1     Carter   Democratic  41.0  1980   loss\n",
       "2   Anderson  Independent   6.6  1980   loss\n",
       "3     Reagan   Republican  58.8  1984    win\n",
       "4    Mondale   Democratic  37.6  1984   loss\n",
       "5       Bush   Republican  53.4  1988    win\n",
       "6    Dukakis   Democratic  45.6  1988   loss\n",
       "7    Clinton   Democratic  43.0  1992    win\n",
       "8       Bush   Republican  37.4  1992   loss\n",
       "9      Perot  Independent  18.9  1992   loss\n",
       "10   Clinton   Democratic  49.2  1996    win\n",
       "11      Dole   Republican  40.7  1996   loss\n",
       "12     Perot  Independent   8.4  1996   loss\n",
       "13      Gore   Democratic  48.4  2000   loss\n",
       "14      Bush   Republican  47.9  2000    win\n",
       "15     Kerry   Democratic  48.3  2004   loss\n",
       "16      Bush   Republican  50.7  2004    win\n",
       "17     Obama   Democratic  52.9  2008    win\n",
       "18    McCain   Republican  45.7  2008   loss\n",
       "19     Obama   Democratic  51.1  2012    win\n",
       "20    Romney   Republican  47.2  2012   loss\n",
       "21   Clinton   Democratic  48.2  2016   loss\n",
       "22     Trump   Republican  46.1  2016    win\n",
       "23     Biden   Democratic  51.3  2020    win\n",
       "24     Trump   Republican  46.8  2020   loss"
      ]
     },
     "execution_count": 8,
     "metadata": {},
     "output_type": "execute_result"
    }
   ],
   "source": [
    "elections = pd.read_csv(\"elections.csv\")\n",
    "elections # if we end a cell with an expression or variable name, the result will print"
   ]
  },
  {
   "cell_type": "markdown",
   "metadata": {},
   "source": [
    "We can use shape to geth information about the shape of this dataset"
   ]
  },
  {
   "cell_type": "code",
   "execution_count": 9,
   "metadata": {},
   "outputs": [
    {
     "data": {
      "text/plain": [
       "(25, 5)"
      ]
     },
     "execution_count": 9,
     "metadata": {},
     "output_type": "execute_result"
    }
   ],
   "source": [
    "elections.shape"
   ]
  },
  {
   "cell_type": "markdown",
   "metadata": {},
   "source": [
    "We can use the head command to return only a few rows of a dataframe."
   ]
  },
  {
   "cell_type": "code",
   "execution_count": 10,
   "metadata": {},
   "outputs": [
    {
     "data": {
      "text/html": [
       "<div>\n",
       "<style scoped>\n",
       "    .dataframe tbody tr th:only-of-type {\n",
       "        vertical-align: middle;\n",
       "    }\n",
       "\n",
       "    .dataframe tbody tr th {\n",
       "        vertical-align: top;\n",
       "    }\n",
       "\n",
       "    .dataframe thead th {\n",
       "        text-align: right;\n",
       "    }\n",
       "</style>\n",
       "<table border=\"1\" class=\"dataframe\">\n",
       "  <thead>\n",
       "    <tr style=\"text-align: right;\">\n",
       "      <th></th>\n",
       "      <th>Candidate</th>\n",
       "      <th>Party</th>\n",
       "      <th>%</th>\n",
       "      <th>Year</th>\n",
       "      <th>Result</th>\n",
       "    </tr>\n",
       "  </thead>\n",
       "  <tbody>\n",
       "    <tr>\n",
       "      <th>0</th>\n",
       "      <td>Reagan</td>\n",
       "      <td>Republican</td>\n",
       "      <td>50.7</td>\n",
       "      <td>1980</td>\n",
       "      <td>win</td>\n",
       "    </tr>\n",
       "    <tr>\n",
       "      <th>1</th>\n",
       "      <td>Carter</td>\n",
       "      <td>Democratic</td>\n",
       "      <td>41.0</td>\n",
       "      <td>1980</td>\n",
       "      <td>loss</td>\n",
       "    </tr>\n",
       "    <tr>\n",
       "      <th>2</th>\n",
       "      <td>Anderson</td>\n",
       "      <td>Independent</td>\n",
       "      <td>6.6</td>\n",
       "      <td>1980</td>\n",
       "      <td>loss</td>\n",
       "    </tr>\n",
       "    <tr>\n",
       "      <th>3</th>\n",
       "      <td>Reagan</td>\n",
       "      <td>Republican</td>\n",
       "      <td>58.8</td>\n",
       "      <td>1984</td>\n",
       "      <td>win</td>\n",
       "    </tr>\n",
       "    <tr>\n",
       "      <th>4</th>\n",
       "      <td>Mondale</td>\n",
       "      <td>Democratic</td>\n",
       "      <td>37.6</td>\n",
       "      <td>1984</td>\n",
       "      <td>loss</td>\n",
       "    </tr>\n",
       "    <tr>\n",
       "      <th>5</th>\n",
       "      <td>Bush</td>\n",
       "      <td>Republican</td>\n",
       "      <td>53.4</td>\n",
       "      <td>1988</td>\n",
       "      <td>win</td>\n",
       "    </tr>\n",
       "    <tr>\n",
       "      <th>6</th>\n",
       "      <td>Dukakis</td>\n",
       "      <td>Democratic</td>\n",
       "      <td>45.6</td>\n",
       "      <td>1988</td>\n",
       "      <td>loss</td>\n",
       "    </tr>\n",
       "    <tr>\n",
       "      <th>7</th>\n",
       "      <td>Clinton</td>\n",
       "      <td>Democratic</td>\n",
       "      <td>43.0</td>\n",
       "      <td>1992</td>\n",
       "      <td>win</td>\n",
       "    </tr>\n",
       "    <tr>\n",
       "      <th>8</th>\n",
       "      <td>Bush</td>\n",
       "      <td>Republican</td>\n",
       "      <td>37.4</td>\n",
       "      <td>1992</td>\n",
       "      <td>loss</td>\n",
       "    </tr>\n",
       "    <tr>\n",
       "      <th>9</th>\n",
       "      <td>Perot</td>\n",
       "      <td>Independent</td>\n",
       "      <td>18.9</td>\n",
       "      <td>1992</td>\n",
       "      <td>loss</td>\n",
       "    </tr>\n",
       "  </tbody>\n",
       "</table>\n",
       "</div>"
      ],
      "text/plain": [
       "  Candidate        Party     %  Year Result\n",
       "0    Reagan   Republican  50.7  1980    win\n",
       "1    Carter   Democratic  41.0  1980   loss\n",
       "2  Anderson  Independent   6.6  1980   loss\n",
       "3    Reagan   Republican  58.8  1984    win\n",
       "4   Mondale   Democratic  37.6  1984   loss\n",
       "5      Bush   Republican  53.4  1988    win\n",
       "6   Dukakis   Democratic  45.6  1988   loss\n",
       "7   Clinton   Democratic  43.0  1992    win\n",
       "8      Bush   Republican  37.4  1992   loss\n",
       "9     Perot  Independent  18.9  1992   loss"
      ]
     },
     "execution_count": 10,
     "metadata": {},
     "output_type": "execute_result"
    }
   ],
   "source": [
    "elections.head(10)"
   ]
  },
  {
   "cell_type": "markdown",
   "metadata": {},
   "source": [
    "There is also a tail command."
   ]
  },
  {
   "cell_type": "code",
   "execution_count": 11,
   "metadata": {},
   "outputs": [
    {
     "data": {
      "text/html": [
       "<div>\n",
       "<style scoped>\n",
       "    .dataframe tbody tr th:only-of-type {\n",
       "        vertical-align: middle;\n",
       "    }\n",
       "\n",
       "    .dataframe tbody tr th {\n",
       "        vertical-align: top;\n",
       "    }\n",
       "\n",
       "    .dataframe thead th {\n",
       "        text-align: right;\n",
       "    }\n",
       "</style>\n",
       "<table border=\"1\" class=\"dataframe\">\n",
       "  <thead>\n",
       "    <tr style=\"text-align: right;\">\n",
       "      <th></th>\n",
       "      <th>Candidate</th>\n",
       "      <th>Party</th>\n",
       "      <th>%</th>\n",
       "      <th>Year</th>\n",
       "      <th>Result</th>\n",
       "    </tr>\n",
       "  </thead>\n",
       "  <tbody>\n",
       "    <tr>\n",
       "      <th>18</th>\n",
       "      <td>McCain</td>\n",
       "      <td>Republican</td>\n",
       "      <td>45.7</td>\n",
       "      <td>2008</td>\n",
       "      <td>loss</td>\n",
       "    </tr>\n",
       "    <tr>\n",
       "      <th>19</th>\n",
       "      <td>Obama</td>\n",
       "      <td>Democratic</td>\n",
       "      <td>51.1</td>\n",
       "      <td>2012</td>\n",
       "      <td>win</td>\n",
       "    </tr>\n",
       "    <tr>\n",
       "      <th>20</th>\n",
       "      <td>Romney</td>\n",
       "      <td>Republican</td>\n",
       "      <td>47.2</td>\n",
       "      <td>2012</td>\n",
       "      <td>loss</td>\n",
       "    </tr>\n",
       "    <tr>\n",
       "      <th>21</th>\n",
       "      <td>Clinton</td>\n",
       "      <td>Democratic</td>\n",
       "      <td>48.2</td>\n",
       "      <td>2016</td>\n",
       "      <td>loss</td>\n",
       "    </tr>\n",
       "    <tr>\n",
       "      <th>22</th>\n",
       "      <td>Trump</td>\n",
       "      <td>Republican</td>\n",
       "      <td>46.1</td>\n",
       "      <td>2016</td>\n",
       "      <td>win</td>\n",
       "    </tr>\n",
       "    <tr>\n",
       "      <th>23</th>\n",
       "      <td>Biden</td>\n",
       "      <td>Democratic</td>\n",
       "      <td>51.3</td>\n",
       "      <td>2020</td>\n",
       "      <td>win</td>\n",
       "    </tr>\n",
       "    <tr>\n",
       "      <th>24</th>\n",
       "      <td>Trump</td>\n",
       "      <td>Republican</td>\n",
       "      <td>46.8</td>\n",
       "      <td>2020</td>\n",
       "      <td>loss</td>\n",
       "    </tr>\n",
       "  </tbody>\n",
       "</table>\n",
       "</div>"
      ],
      "text/plain": [
       "   Candidate       Party     %  Year Result\n",
       "18    McCain  Republican  45.7  2008   loss\n",
       "19     Obama  Democratic  51.1  2012    win\n",
       "20    Romney  Republican  47.2  2012   loss\n",
       "21   Clinton  Democratic  48.2  2016   loss\n",
       "22     Trump  Republican  46.1  2016    win\n",
       "23     Biden  Democratic  51.3  2020    win\n",
       "24     Trump  Republican  46.8  2020   loss"
      ]
     },
     "execution_count": 11,
     "metadata": {},
     "output_type": "execute_result"
    }
   ],
   "source": [
    "elections.tail(7)"
   ]
  },
  {
   "cell_type": "markdown",
   "metadata": {},
   "source": []
  },
  {
   "cell_type": "markdown",
   "metadata": {},
   "source": [
    "When reading data column names are ideally unique. But if we try to read in a file for which column names are not unique, Pandas will automatically rename any duplicates.  Just good to know, many datasets in the wild have duplicate names. "
   ]
  },
  {
   "cell_type": "code",
   "execution_count": 12,
   "metadata": {},
   "outputs": [
    {
     "data": {
      "text/html": [
       "<div>\n",
       "<style scoped>\n",
       "    .dataframe tbody tr th:only-of-type {\n",
       "        vertical-align: middle;\n",
       "    }\n",
       "\n",
       "    .dataframe tbody tr th {\n",
       "        vertical-align: top;\n",
       "    }\n",
       "\n",
       "    .dataframe thead th {\n",
       "        text-align: right;\n",
       "    }\n",
       "</style>\n",
       "<table border=\"1\" class=\"dataframe\">\n",
       "  <thead>\n",
       "    <tr style=\"text-align: right;\">\n",
       "      <th></th>\n",
       "      <th>name</th>\n",
       "      <th>name.1</th>\n",
       "      <th>flavor</th>\n",
       "    </tr>\n",
       "  </thead>\n",
       "  <tbody>\n",
       "    <tr>\n",
       "      <th>0</th>\n",
       "      <td>john</td>\n",
       "      <td>smith</td>\n",
       "      <td>vanilla</td>\n",
       "    </tr>\n",
       "    <tr>\n",
       "      <th>1</th>\n",
       "      <td>zhang</td>\n",
       "      <td>shan</td>\n",
       "      <td>chocolate</td>\n",
       "    </tr>\n",
       "    <tr>\n",
       "      <th>2</th>\n",
       "      <td>fulan</td>\n",
       "      <td>alfulani</td>\n",
       "      <td>NaN</td>\n",
       "    </tr>\n",
       "    <tr>\n",
       "      <th>3</th>\n",
       "      <td>hong</td>\n",
       "      <td>gildong</td>\n",
       "      <td>banana</td>\n",
       "    </tr>\n",
       "  </tbody>\n",
       "</table>\n",
       "</div>"
      ],
      "text/plain": [
       "    name    name.1     flavor\n",
       "0   john     smith    vanilla\n",
       "1  zhang      shan  chocolate\n",
       "2  fulan  alfulani        NaN\n",
       "3   hong   gildong     banana"
      ]
     },
     "execution_count": 12,
     "metadata": {},
     "output_type": "execute_result"
    }
   ],
   "source": [
    "dups = pd.read_csv(\"duplicate_columns.csv\")\n",
    "dups"
   ]
  },
  {
   "cell_type": "markdown",
   "metadata": {},
   "source": [
    "## Indexing, Slicing, Dicing"
   ]
  },
  {
   "cell_type": "markdown",
   "metadata": {},
   "source": [
    "After reading in data, the most common operaton is selecting data.   With pandas dataframes there are a bunch of powerful ways to access data.  I'll step through a few now. \n",
    "\n",
    "The DataFrame class has an indexing operator [] that lets you do a variety of different things. If your provide a String to the [] operator, you get back a Series corresponding to the requested label.\n",
    "\n",
    "This is start of where syntax will get a bit confusing.  \n",
    "\n",
    "### Selection Using Label/Index, with `loc`\n",
    "\n",
    "**Column Selection** \n",
    "\n",
    "To select a column of a `DataFrame` by column label, the safest and fastest way is to use the `.loc` [method](https://pandas.pydata.org/pandas-docs/stable/reference/api/pandas.DataFrame.loc.html). General usage of `.loc` looks like `df.loc[rowname, colname]`. Remember that the colon `:` means \"everything.\" For example, if we want the `color` column of the `ex` DataFrame, we would use: `ex.loc[:, 'color']`\n",
    "\n",
    "- You can also slice across columns. For example, `baby_names.loc[:, 'Name':]` would select the column `Name` and all columns after `Name`.\n",
    "\n",
    "- *Alternative:* While `.loc` is invaluable when writing production code, You will often see an alternative the `[]` method, which takes on the form `df['colname']`.  I advise against using this until you are more comfortable with dataframes.  It has a few idiosyncracies that make it confusing. \n",
    "\n",
    "**Row Selection**\n",
    "\n",
    "Similarly, if we want to select a row by its label, we can use the same `.loc` method. In this case, the \"label\" of each row refers to the index (ie. primary key) of the DataFrame.\n",
    "\n",
    "### We wil go through a bunch of examples now. \n"
   ]
  },
  {
   "cell_type": "code",
   "execution_count": 41,
   "metadata": {},
   "outputs": [
    {
     "data": {
      "text/html": [
       "<div>\n",
       "<style scoped>\n",
       "    .dataframe tbody tr th:only-of-type {\n",
       "        vertical-align: middle;\n",
       "    }\n",
       "\n",
       "    .dataframe tbody tr th {\n",
       "        vertical-align: top;\n",
       "    }\n",
       "\n",
       "    .dataframe thead th {\n",
       "        text-align: right;\n",
       "    }\n",
       "</style>\n",
       "<table border=\"1\" class=\"dataframe\">\n",
       "  <thead>\n",
       "    <tr style=\"text-align: right;\">\n",
       "      <th></th>\n",
       "      <th>Candidate</th>\n",
       "      <th>Party</th>\n",
       "      <th>%</th>\n",
       "      <th>Year</th>\n",
       "      <th>Result</th>\n",
       "    </tr>\n",
       "  </thead>\n",
       "  <tbody>\n",
       "    <tr>\n",
       "      <th>0</th>\n",
       "      <td>Reagan</td>\n",
       "      <td>Republican</td>\n",
       "      <td>50.7</td>\n",
       "      <td>1980</td>\n",
       "      <td>win</td>\n",
       "    </tr>\n",
       "    <tr>\n",
       "      <th>1</th>\n",
       "      <td>Carter</td>\n",
       "      <td>Democratic</td>\n",
       "      <td>41.0</td>\n",
       "      <td>1980</td>\n",
       "      <td>loss</td>\n",
       "    </tr>\n",
       "    <tr>\n",
       "      <th>2</th>\n",
       "      <td>Anderson</td>\n",
       "      <td>Independent</td>\n",
       "      <td>6.6</td>\n",
       "      <td>1980</td>\n",
       "      <td>loss</td>\n",
       "    </tr>\n",
       "    <tr>\n",
       "      <th>3</th>\n",
       "      <td>Reagan</td>\n",
       "      <td>Republican</td>\n",
       "      <td>58.8</td>\n",
       "      <td>1984</td>\n",
       "      <td>win</td>\n",
       "    </tr>\n",
       "    <tr>\n",
       "      <th>4</th>\n",
       "      <td>Mondale</td>\n",
       "      <td>Democratic</td>\n",
       "      <td>37.6</td>\n",
       "      <td>1984</td>\n",
       "      <td>loss</td>\n",
       "    </tr>\n",
       "    <tr>\n",
       "      <th>5</th>\n",
       "      <td>Bush</td>\n",
       "      <td>Republican</td>\n",
       "      <td>53.4</td>\n",
       "      <td>1988</td>\n",
       "      <td>win</td>\n",
       "    </tr>\n",
       "    <tr>\n",
       "      <th>6</th>\n",
       "      <td>Dukakis</td>\n",
       "      <td>Democratic</td>\n",
       "      <td>45.6</td>\n",
       "      <td>1988</td>\n",
       "      <td>loss</td>\n",
       "    </tr>\n",
       "  </tbody>\n",
       "</table>\n",
       "</div>"
      ],
      "text/plain": [
       "  Candidate        Party     %  Year Result\n",
       "0    Reagan   Republican  50.7  1980    win\n",
       "1    Carter   Democratic  41.0  1980   loss\n",
       "2  Anderson  Independent   6.6  1980   loss\n",
       "3    Reagan   Republican  58.8  1984    win\n",
       "4   Mondale   Democratic  37.6  1984   loss\n",
       "5      Bush   Republican  53.4  1988    win\n",
       "6   Dukakis   Democratic  45.6  1988   loss"
      ]
     },
     "execution_count": 41,
     "metadata": {},
     "output_type": "execute_result"
    }
   ],
   "source": [
    "#Show the first 6 values. \n",
    "elections.loc[0:6]"
   ]
  },
  {
   "cell_type": "code",
   "execution_count": 52,
   "metadata": {},
   "outputs": [
    {
     "data": {
      "text/plain": [
       "0      Republican\n",
       "1      Democratic\n",
       "2     Independent\n",
       "3      Republican\n",
       "4      Democratic\n",
       "5      Republican\n",
       "6      Democratic\n",
       "7      Democratic\n",
       "8      Republican\n",
       "9     Independent\n",
       "10     Democratic\n",
       "11     Republican\n",
       "12    Independent\n",
       "13     Democratic\n",
       "14     Republican\n",
       "15     Democratic\n",
       "16     Republican\n",
       "17     Democratic\n",
       "18     Republican\n",
       "19     Democratic\n",
       "20     Republican\n",
       "21     Democratic\n",
       "22     Republican\n",
       "23     Democratic\n",
       "24     Republican\n",
       "Name: Party, dtype: object"
      ]
     },
     "execution_count": 52,
     "metadata": {},
     "output_type": "execute_result"
    }
   ],
   "source": [
    "#Show the party column\n",
    "# Note that the \":\" means everything\n",
    "elections.loc[:,'Party']"
   ]
  },
  {
   "cell_type": "code",
   "execution_count": 43,
   "metadata": {},
   "outputs": [
    {
     "data": {
      "text/plain": [
       "0      Reagan\n",
       "1      Carter\n",
       "2    Anderson\n",
       "3      Reagan\n",
       "4     Mondale\n",
       "5        Bush\n",
       "6     Dukakis\n",
       "Name: Candidate, dtype: object"
      ]
     },
     "execution_count": 43,
     "metadata": {},
     "output_type": "execute_result"
    }
   ],
   "source": [
    "# Show just the Candidate names for the first 6 values. \n",
    "elections.loc[0:6,'Candidate']\n"
   ]
  },
  {
   "cell_type": "markdown",
   "metadata": {},
   "source": [
    "The .loc[] operator also accepts a list of strings. In this case, you get back a DataFrame corresponding to the requested strings."
   ]
  },
  {
   "cell_type": "code",
   "execution_count": 48,
   "metadata": {
    "scrolled": true
   },
   "outputs": [
    {
     "data": {
      "text/plain": [
       "Candidate        Carter\n",
       "Party        Democratic\n",
       "Name: 1, dtype: object"
      ]
     },
     "execution_count": 48,
     "metadata": {},
     "output_type": "execute_result"
    }
   ],
   "source": [
    "#Select two columns from the dataframe\n",
    "elections.loc[1,[\"Candidate\", \"Party\"]]"
   ]
  },
  {
   "cell_type": "markdown",
   "metadata": {},
   "source": [
    "## [] Shorthand\n",
    "You will often see people skip the .loc syntax of df.loc[] and use syntax like: df[].   This \n",
    "\n",
    "The [] operator also accepts numerical slices as arguments. In this case, we are indexing by row, not column!\n",
    "\n",
    "## Which can get really, really confusing!!"
   ]
  },
  {
   "cell_type": "code",
   "execution_count": 16,
   "metadata": {},
   "outputs": [
    {
     "data": {
      "text/html": [
       "<div>\n",
       "<style scoped>\n",
       "    .dataframe tbody tr th:only-of-type {\n",
       "        vertical-align: middle;\n",
       "    }\n",
       "\n",
       "    .dataframe tbody tr th {\n",
       "        vertical-align: top;\n",
       "    }\n",
       "\n",
       "    .dataframe thead th {\n",
       "        text-align: right;\n",
       "    }\n",
       "</style>\n",
       "<table border=\"1\" class=\"dataframe\">\n",
       "  <thead>\n",
       "    <tr style=\"text-align: right;\">\n",
       "      <th></th>\n",
       "      <th>Candidate</th>\n",
       "      <th>Party</th>\n",
       "      <th>%</th>\n",
       "      <th>Year</th>\n",
       "      <th>Result</th>\n",
       "    </tr>\n",
       "  </thead>\n",
       "  <tbody>\n",
       "    <tr>\n",
       "      <th>0</th>\n",
       "      <td>Reagan</td>\n",
       "      <td>Republican</td>\n",
       "      <td>50.7</td>\n",
       "      <td>1980</td>\n",
       "      <td>win</td>\n",
       "    </tr>\n",
       "    <tr>\n",
       "      <th>1</th>\n",
       "      <td>Carter</td>\n",
       "      <td>Democratic</td>\n",
       "      <td>41.0</td>\n",
       "      <td>1980</td>\n",
       "      <td>loss</td>\n",
       "    </tr>\n",
       "    <tr>\n",
       "      <th>2</th>\n",
       "      <td>Anderson</td>\n",
       "      <td>Independent</td>\n",
       "      <td>6.6</td>\n",
       "      <td>1980</td>\n",
       "      <td>loss</td>\n",
       "    </tr>\n",
       "  </tbody>\n",
       "</table>\n",
       "</div>"
      ],
      "text/plain": [
       "  Candidate        Party     %  Year Result\n",
       "0    Reagan   Republican  50.7  1980    win\n",
       "1    Carter   Democratic  41.0  1980   loss\n",
       "2  Anderson  Independent   6.6  1980   loss"
      ]
     },
     "execution_count": 16,
     "metadata": {},
     "output_type": "execute_result"
    }
   ],
   "source": [
    "elections[0:3]"
   ]
  },
  {
   "cell_type": "markdown",
   "metadata": {},
   "source": [
    "The way to think of this is that the table is fundamentally a table with rows and columns.  Columns have names, rows have numbers by default. What we did above was shorthand.  When we didn't ask for a specific column or row we got all of them back.  \n",
    "\n",
    "WHen you start selecting both there are a lot of [] to keep track of.   "
   ]
  },
  {
   "cell_type": "code",
   "execution_count": 17,
   "metadata": {},
   "outputs": [
    {
     "data": {
      "text/html": [
       "<div>\n",
       "<style scoped>\n",
       "    .dataframe tbody tr th:only-of-type {\n",
       "        vertical-align: middle;\n",
       "    }\n",
       "\n",
       "    .dataframe tbody tr th {\n",
       "        vertical-align: top;\n",
       "    }\n",
       "\n",
       "    .dataframe thead th {\n",
       "        text-align: right;\n",
       "    }\n",
       "</style>\n",
       "<table border=\"1\" class=\"dataframe\">\n",
       "  <thead>\n",
       "    <tr style=\"text-align: right;\">\n",
       "      <th></th>\n",
       "      <th>Candidate</th>\n",
       "      <th>Party</th>\n",
       "    </tr>\n",
       "  </thead>\n",
       "  <tbody>\n",
       "    <tr>\n",
       "      <th>0</th>\n",
       "      <td>Reagan</td>\n",
       "      <td>Republican</td>\n",
       "    </tr>\n",
       "    <tr>\n",
       "      <th>1</th>\n",
       "      <td>Carter</td>\n",
       "      <td>Democratic</td>\n",
       "    </tr>\n",
       "    <tr>\n",
       "      <th>2</th>\n",
       "      <td>Anderson</td>\n",
       "      <td>Independent</td>\n",
       "    </tr>\n",
       "  </tbody>\n",
       "</table>\n",
       "</div>"
      ],
      "text/plain": [
       "  Candidate        Party\n",
       "0    Reagan   Republican\n",
       "1    Carter   Democratic\n",
       "2  Anderson  Independent"
      ]
     },
     "execution_count": 17,
     "metadata": {},
     "output_type": "execute_result"
    }
   ],
   "source": [
    "elections[[\"Candidate\",\"Party\"]][0:3]"
   ]
  },
  {
   "cell_type": "markdown",
   "metadata": {},
   "source": [
    "If you provide a single argument to the [] operator, it tries to use it as a name. This is true even if the argument passed to [] is an integer.  The next cell has an intentional error.   You will see these \"KeyError\" messages often when working with pandas.   It just means it can't find what you're looking for.  Usually because of a typo. "
   ]
  },
  {
   "cell_type": "code",
   "execution_count": 21,
   "metadata": {},
   "outputs": [
    {
     "ename": "KeyError",
     "evalue": "1",
     "output_type": "error",
     "traceback": [
      "\u001b[0;31m---------------------------------------------------------------------------\u001b[0m",
      "\u001b[0;31mKeyError\u001b[0m                                  Traceback (most recent call last)",
      "File \u001b[0;32m~/mambaforge/envs/jmaPy38/lib/python3.8/site-packages/pandas/core/indexes/base.py:3653\u001b[0m, in \u001b[0;36mIndex.get_loc\u001b[0;34m(self, key)\u001b[0m\n\u001b[1;32m   3652\u001b[0m \u001b[38;5;28;01mtry\u001b[39;00m:\n\u001b[0;32m-> 3653\u001b[0m     \u001b[38;5;28;01mreturn\u001b[39;00m \u001b[38;5;28;43mself\u001b[39;49m\u001b[38;5;241;43m.\u001b[39;49m\u001b[43m_engine\u001b[49m\u001b[38;5;241;43m.\u001b[39;49m\u001b[43mget_loc\u001b[49m\u001b[43m(\u001b[49m\u001b[43mcasted_key\u001b[49m\u001b[43m)\u001b[49m\n\u001b[1;32m   3654\u001b[0m \u001b[38;5;28;01mexcept\u001b[39;00m \u001b[38;5;167;01mKeyError\u001b[39;00m \u001b[38;5;28;01mas\u001b[39;00m err:\n",
      "File \u001b[0;32m~/mambaforge/envs/jmaPy38/lib/python3.8/site-packages/pandas/_libs/index.pyx:147\u001b[0m, in \u001b[0;36mpandas._libs.index.IndexEngine.get_loc\u001b[0;34m()\u001b[0m\n",
      "File \u001b[0;32m~/mambaforge/envs/jmaPy38/lib/python3.8/site-packages/pandas/_libs/index.pyx:176\u001b[0m, in \u001b[0;36mpandas._libs.index.IndexEngine.get_loc\u001b[0;34m()\u001b[0m\n",
      "File \u001b[0;32mpandas/_libs/hashtable_class_helper.pxi:7080\u001b[0m, in \u001b[0;36mpandas._libs.hashtable.PyObjectHashTable.get_item\u001b[0;34m()\u001b[0m\n",
      "File \u001b[0;32mpandas/_libs/hashtable_class_helper.pxi:7088\u001b[0m, in \u001b[0;36mpandas._libs.hashtable.PyObjectHashTable.get_item\u001b[0;34m()\u001b[0m\n",
      "\u001b[0;31mKeyError\u001b[0m: 1",
      "\nThe above exception was the direct cause of the following exception:\n",
      "\u001b[0;31mKeyError\u001b[0m                                  Traceback (most recent call last)",
      "Cell \u001b[0;32mIn[21], line 3\u001b[0m\n\u001b[1;32m      1\u001b[0m \u001b[38;5;66;03m#Since we got \u001b[39;00m\n\u001b[0;32m----> 3\u001b[0m \u001b[43melections\u001b[49m\u001b[43m[\u001b[49m\u001b[43m[\u001b[49m\u001b[38;5;124;43m\"\u001b[39;49m\u001b[38;5;124;43mCandidate\u001b[39;49m\u001b[38;5;124;43m\"\u001b[39;49m\u001b[43m,\u001b[49m\u001b[38;5;124;43m\"\u001b[39;49m\u001b[38;5;124;43mParty\u001b[39;49m\u001b[38;5;124;43m\"\u001b[39;49m\u001b[43m]\u001b[49m\u001b[43m]\u001b[49m\u001b[43m[\u001b[49m\u001b[38;5;241;43m1\u001b[39;49m\u001b[43m]\u001b[49m\n",
      "File \u001b[0;32m~/mambaforge/envs/jmaPy38/lib/python3.8/site-packages/pandas/core/frame.py:3761\u001b[0m, in \u001b[0;36mDataFrame.__getitem__\u001b[0;34m(self, key)\u001b[0m\n\u001b[1;32m   3759\u001b[0m \u001b[38;5;28;01mif\u001b[39;00m \u001b[38;5;28mself\u001b[39m\u001b[38;5;241m.\u001b[39mcolumns\u001b[38;5;241m.\u001b[39mnlevels \u001b[38;5;241m>\u001b[39m \u001b[38;5;241m1\u001b[39m:\n\u001b[1;32m   3760\u001b[0m     \u001b[38;5;28;01mreturn\u001b[39;00m \u001b[38;5;28mself\u001b[39m\u001b[38;5;241m.\u001b[39m_getitem_multilevel(key)\n\u001b[0;32m-> 3761\u001b[0m indexer \u001b[38;5;241m=\u001b[39m \u001b[38;5;28;43mself\u001b[39;49m\u001b[38;5;241;43m.\u001b[39;49m\u001b[43mcolumns\u001b[49m\u001b[38;5;241;43m.\u001b[39;49m\u001b[43mget_loc\u001b[49m\u001b[43m(\u001b[49m\u001b[43mkey\u001b[49m\u001b[43m)\u001b[49m\n\u001b[1;32m   3762\u001b[0m \u001b[38;5;28;01mif\u001b[39;00m is_integer(indexer):\n\u001b[1;32m   3763\u001b[0m     indexer \u001b[38;5;241m=\u001b[39m [indexer]\n",
      "File \u001b[0;32m~/mambaforge/envs/jmaPy38/lib/python3.8/site-packages/pandas/core/indexes/base.py:3655\u001b[0m, in \u001b[0;36mIndex.get_loc\u001b[0;34m(self, key)\u001b[0m\n\u001b[1;32m   3653\u001b[0m     \u001b[38;5;28;01mreturn\u001b[39;00m \u001b[38;5;28mself\u001b[39m\u001b[38;5;241m.\u001b[39m_engine\u001b[38;5;241m.\u001b[39mget_loc(casted_key)\n\u001b[1;32m   3654\u001b[0m \u001b[38;5;28;01mexcept\u001b[39;00m \u001b[38;5;167;01mKeyError\u001b[39;00m \u001b[38;5;28;01mas\u001b[39;00m err:\n\u001b[0;32m-> 3655\u001b[0m     \u001b[38;5;28;01mraise\u001b[39;00m \u001b[38;5;167;01mKeyError\u001b[39;00m(key) \u001b[38;5;28;01mfrom\u001b[39;00m \u001b[38;5;21;01merr\u001b[39;00m\n\u001b[1;32m   3656\u001b[0m \u001b[38;5;28;01mexcept\u001b[39;00m \u001b[38;5;167;01mTypeError\u001b[39;00m:\n\u001b[1;32m   3657\u001b[0m     \u001b[38;5;66;03m# If we have a listlike key, _check_indexing_error will raise\u001b[39;00m\n\u001b[1;32m   3658\u001b[0m     \u001b[38;5;66;03m#  InvalidIndexError. Otherwise we fall through and re-raise\u001b[39;00m\n\u001b[1;32m   3659\u001b[0m     \u001b[38;5;66;03m#  the TypeError.\u001b[39;00m\n\u001b[1;32m   3660\u001b[0m     \u001b[38;5;28mself\u001b[39m\u001b[38;5;241m.\u001b[39m_check_indexing_error(key)\n",
      "\u001b[0;31mKeyError\u001b[0m: 1"
     ]
    }
   ],
   "source": [
    "#Since the code above with the range 0:3 worked y9ou might expect to be able to pick a single value.\n",
    "# That would be wrong.  THe following code fails for a \"KeytError\"\n",
    "\n",
    "elections[[\"Candidate\",\"Party\"]][1]  #Incorrect code that will crreate an error. "
   ]
  },
  {
   "cell_type": "markdown",
   "metadata": {},
   "source": [
    "The moral of these errors is to stick with .loc[] for clarity.  "
   ]
  },
  {
   "cell_type": "markdown",
   "metadata": {},
   "source": [
    "# Strings VS Numbers\n",
    "\n",
    "Labels for rows and columns can be strings and/or numbers.  Another common confusion is that the number 1 is treated as as **different** from the string \"1\".\n",
    "\n",
    "Yes.  This can be annoying.  "
   ]
  },
  {
   "cell_type": "markdown",
   "metadata": {},
   "source": []
  },
  {
   "cell_type": "code",
   "execution_count": 53,
   "metadata": {},
   "outputs": [
    {
     "data": {
      "text/html": [
       "<div>\n",
       "<style scoped>\n",
       "    .dataframe tbody tr th:only-of-type {\n",
       "        vertical-align: middle;\n",
       "    }\n",
       "\n",
       "    .dataframe tbody tr th {\n",
       "        vertical-align: top;\n",
       "    }\n",
       "\n",
       "    .dataframe thead th {\n",
       "        text-align: right;\n",
       "    }\n",
       "</style>\n",
       "<table border=\"1\" class=\"dataframe\">\n",
       "  <thead>\n",
       "    <tr style=\"text-align: right;\">\n",
       "      <th></th>\n",
       "      <th>1</th>\n",
       "      <th>1</th>\n",
       "    </tr>\n",
       "  </thead>\n",
       "  <tbody>\n",
       "    <tr>\n",
       "      <th>0</th>\n",
       "      <td>topdog</td>\n",
       "      <td>topcat</td>\n",
       "    </tr>\n",
       "    <tr>\n",
       "      <th>1</th>\n",
       "      <td>botdog</td>\n",
       "      <td>botcat</td>\n",
       "    </tr>\n",
       "  </tbody>\n",
       "</table>\n",
       "</div>"
      ],
      "text/plain": [
       "        1       1\n",
       "0  topdog  topcat\n",
       "1  botdog  botcat"
      ]
     },
     "execution_count": 53,
     "metadata": {},
     "output_type": "execute_result"
    }
   ],
   "source": [
    "weird = pd.DataFrame({\n",
    "    1:[\"topdog\",\"botdog\"], \n",
    "    \"1\":[\"topcat\",\"botcat\"]\n",
    "})\n",
    "weird"
   ]
  },
  {
   "cell_type": "code",
   "execution_count": null,
   "metadata": {},
   "outputs": [],
   "source": [
    "weird[1] #try to predict the output"
   ]
  },
  {
   "cell_type": "code",
   "execution_count": null,
   "metadata": {},
   "outputs": [],
   "source": [
    "weird[\"1\"] #try to predict the output"
   ]
  },
  {
   "cell_type": "code",
   "execution_count": null,
   "metadata": {},
   "outputs": [],
   "source": [
    "weird[1:] #try to predict the output"
   ]
  },
  {
   "cell_type": "markdown",
   "metadata": {},
   "source": [
    "#Yes"
   ]
  },
  {
   "cell_type": "markdown",
   "metadata": {},
   "source": [
    "## Boolean Array Selection"
   ]
  },
  {
   "cell_type": "markdown",
   "metadata": {},
   "source": [
    "Now let's start doing some more interesting things. \n",
    "\n",
    "The `.loc[]` operator also supports array of booleans as an input. In this case, the array must be exactly as long as the number of rows. The result is a filtered version of the data frame, where only rows corresponding to True appear."
   ]
  },
  {
   "cell_type": "code",
   "execution_count": null,
   "metadata": {},
   "outputs": [],
   "source": [
    "elections"
   ]
  },
  {
   "cell_type": "code",
   "execution_count": 57,
   "metadata": {},
   "outputs": [
    {
     "data": {
      "text/html": [
       "<div>\n",
       "<style scoped>\n",
       "    .dataframe tbody tr th:only-of-type {\n",
       "        vertical-align: middle;\n",
       "    }\n",
       "\n",
       "    .dataframe tbody tr th {\n",
       "        vertical-align: top;\n",
       "    }\n",
       "\n",
       "    .dataframe thead th {\n",
       "        text-align: right;\n",
       "    }\n",
       "</style>\n",
       "<table border=\"1\" class=\"dataframe\">\n",
       "  <thead>\n",
       "    <tr style=\"text-align: right;\">\n",
       "      <th></th>\n",
       "      <th>Candidate</th>\n",
       "      <th>Party</th>\n",
       "      <th>%</th>\n",
       "      <th>Year</th>\n",
       "      <th>Result</th>\n",
       "    </tr>\n",
       "  </thead>\n",
       "  <tbody>\n",
       "    <tr>\n",
       "      <th>7</th>\n",
       "      <td>Clinton</td>\n",
       "      <td>Democratic</td>\n",
       "      <td>43.0</td>\n",
       "      <td>1992</td>\n",
       "      <td>win</td>\n",
       "    </tr>\n",
       "    <tr>\n",
       "      <th>10</th>\n",
       "      <td>Clinton</td>\n",
       "      <td>Democratic</td>\n",
       "      <td>49.2</td>\n",
       "      <td>1996</td>\n",
       "      <td>win</td>\n",
       "    </tr>\n",
       "    <tr>\n",
       "      <th>14</th>\n",
       "      <td>Bush</td>\n",
       "      <td>Republican</td>\n",
       "      <td>47.9</td>\n",
       "      <td>2000</td>\n",
       "      <td>win</td>\n",
       "    </tr>\n",
       "    <tr>\n",
       "      <th>22</th>\n",
       "      <td>Trump</td>\n",
       "      <td>Republican</td>\n",
       "      <td>46.1</td>\n",
       "      <td>2016</td>\n",
       "      <td>win</td>\n",
       "    </tr>\n",
       "    <tr>\n",
       "      <th>23</th>\n",
       "      <td>Biden</td>\n",
       "      <td>Democratic</td>\n",
       "      <td>51.3</td>\n",
       "      <td>2020</td>\n",
       "      <td>win</td>\n",
       "    </tr>\n",
       "    <tr>\n",
       "      <th>24</th>\n",
       "      <td>Trump</td>\n",
       "      <td>Republican</td>\n",
       "      <td>46.8</td>\n",
       "      <td>2020</td>\n",
       "      <td>loss</td>\n",
       "    </tr>\n",
       "  </tbody>\n",
       "</table>\n",
       "</div>"
      ],
      "text/plain": [
       "   Candidate       Party     %  Year Result\n",
       "7    Clinton  Democratic  43.0  1992    win\n",
       "10   Clinton  Democratic  49.2  1996    win\n",
       "14      Bush  Republican  47.9  2000    win\n",
       "22     Trump  Republican  46.1  2016    win\n",
       "23     Biden  Democratic  51.3  2020    win\n",
       "24     Trump  Republican  46.8  2020   loss"
      ]
     },
     "execution_count": 57,
     "metadata": {},
     "output_type": "execute_result"
    }
   ],
   "source": [
    "elections.loc[[False, False, False, False, False, \n",
    "          False, False, True, False, False,\n",
    "          True, False, False, False, True,\n",
    "          False, False, False, False, False,\n",
    "          False, False, True, True, True]]"
   ]
  },
  {
   "cell_type": "markdown",
   "metadata": {},
   "source": [
    "One very common task in Data Science is filtering. Boolean Array Selection is one way to achieve this in Pandas. We start by observing logical operators like the equality operator can be applied to Pandas Series data to generate a Boolean Array. For example, we can compare the 'Result' column to the String 'win':"
   ]
  },
  {
   "cell_type": "code",
   "execution_count": null,
   "metadata": {},
   "outputs": [],
   "source": [
    "elections"
   ]
  },
  {
   "cell_type": "code",
   "execution_count": 69,
   "metadata": {},
   "outputs": [
    {
     "data": {
      "text/plain": [
       "0     True\n",
       "1    False\n",
       "2    False\n",
       "3     True\n",
       "4    False\n",
       "Name: Result, dtype: bool"
      ]
     },
     "execution_count": 69,
     "metadata": {},
     "output_type": "execute_result"
    }
   ],
   "source": [
    "iswin = elections.loc[:,'Result'] == 'win'\n",
    "iswin.head(5)"
   ]
  },
  {
   "cell_type": "markdown",
   "metadata": {},
   "source": [
    "The output of the logical operator applied to the Series is another Series with the same name and index, but of datatype boolean. The entry at row #i represents the result of the application of that operator to the entry of the original Series at row #i."
   ]
  },
  {
   "cell_type": "markdown",
   "metadata": {},
   "source": [
    "Such a boolean Series can be used as an argument to the [] operator. For example, the following code creates a DataFrame of all election winners since 1980."
   ]
  },
  {
   "cell_type": "code",
   "execution_count": 70,
   "metadata": {},
   "outputs": [
    {
     "data": {
      "text/html": [
       "<div>\n",
       "<style scoped>\n",
       "    .dataframe tbody tr th:only-of-type {\n",
       "        vertical-align: middle;\n",
       "    }\n",
       "\n",
       "    .dataframe tbody tr th {\n",
       "        vertical-align: top;\n",
       "    }\n",
       "\n",
       "    .dataframe thead th {\n",
       "        text-align: right;\n",
       "    }\n",
       "</style>\n",
       "<table border=\"1\" class=\"dataframe\">\n",
       "  <thead>\n",
       "    <tr style=\"text-align: right;\">\n",
       "      <th></th>\n",
       "      <th>Candidate</th>\n",
       "      <th>Party</th>\n",
       "      <th>%</th>\n",
       "      <th>Year</th>\n",
       "      <th>Result</th>\n",
       "    </tr>\n",
       "  </thead>\n",
       "  <tbody>\n",
       "    <tr>\n",
       "      <th>0</th>\n",
       "      <td>Reagan</td>\n",
       "      <td>Republican</td>\n",
       "      <td>50.7</td>\n",
       "      <td>1980</td>\n",
       "      <td>win</td>\n",
       "    </tr>\n",
       "    <tr>\n",
       "      <th>3</th>\n",
       "      <td>Reagan</td>\n",
       "      <td>Republican</td>\n",
       "      <td>58.8</td>\n",
       "      <td>1984</td>\n",
       "      <td>win</td>\n",
       "    </tr>\n",
       "    <tr>\n",
       "      <th>5</th>\n",
       "      <td>Bush</td>\n",
       "      <td>Republican</td>\n",
       "      <td>53.4</td>\n",
       "      <td>1988</td>\n",
       "      <td>win</td>\n",
       "    </tr>\n",
       "    <tr>\n",
       "      <th>7</th>\n",
       "      <td>Clinton</td>\n",
       "      <td>Democratic</td>\n",
       "      <td>43.0</td>\n",
       "      <td>1992</td>\n",
       "      <td>win</td>\n",
       "    </tr>\n",
       "    <tr>\n",
       "      <th>10</th>\n",
       "      <td>Clinton</td>\n",
       "      <td>Democratic</td>\n",
       "      <td>49.2</td>\n",
       "      <td>1996</td>\n",
       "      <td>win</td>\n",
       "    </tr>\n",
       "    <tr>\n",
       "      <th>14</th>\n",
       "      <td>Bush</td>\n",
       "      <td>Republican</td>\n",
       "      <td>47.9</td>\n",
       "      <td>2000</td>\n",
       "      <td>win</td>\n",
       "    </tr>\n",
       "    <tr>\n",
       "      <th>16</th>\n",
       "      <td>Bush</td>\n",
       "      <td>Republican</td>\n",
       "      <td>50.7</td>\n",
       "      <td>2004</td>\n",
       "      <td>win</td>\n",
       "    </tr>\n",
       "    <tr>\n",
       "      <th>17</th>\n",
       "      <td>Obama</td>\n",
       "      <td>Democratic</td>\n",
       "      <td>52.9</td>\n",
       "      <td>2008</td>\n",
       "      <td>win</td>\n",
       "    </tr>\n",
       "    <tr>\n",
       "      <th>19</th>\n",
       "      <td>Obama</td>\n",
       "      <td>Democratic</td>\n",
       "      <td>51.1</td>\n",
       "      <td>2012</td>\n",
       "      <td>win</td>\n",
       "    </tr>\n",
       "    <tr>\n",
       "      <th>22</th>\n",
       "      <td>Trump</td>\n",
       "      <td>Republican</td>\n",
       "      <td>46.1</td>\n",
       "      <td>2016</td>\n",
       "      <td>win</td>\n",
       "    </tr>\n",
       "    <tr>\n",
       "      <th>23</th>\n",
       "      <td>Biden</td>\n",
       "      <td>Democratic</td>\n",
       "      <td>51.3</td>\n",
       "      <td>2020</td>\n",
       "      <td>win</td>\n",
       "    </tr>\n",
       "  </tbody>\n",
       "</table>\n",
       "</div>"
      ],
      "text/plain": [
       "   Candidate       Party     %  Year Result\n",
       "0     Reagan  Republican  50.7  1980    win\n",
       "3     Reagan  Republican  58.8  1984    win\n",
       "5       Bush  Republican  53.4  1988    win\n",
       "7    Clinton  Democratic  43.0  1992    win\n",
       "10   Clinton  Democratic  49.2  1996    win\n",
       "14      Bush  Republican  47.9  2000    win\n",
       "16      Bush  Republican  50.7  2004    win\n",
       "17     Obama  Democratic  52.9  2008    win\n",
       "19     Obama  Democratic  51.1  2012    win\n",
       "22     Trump  Republican  46.1  2016    win\n",
       "23     Biden  Democratic  51.3  2020    win"
      ]
     },
     "execution_count": 70,
     "metadata": {},
     "output_type": "execute_result"
    }
   ],
   "source": [
    "elections.loc[iswin]"
   ]
  },
  {
   "cell_type": "markdown",
   "metadata": {},
   "source": [
    "Above, we've assigned the result of the logical operator to a new variable called `iswin`. This is uncommon. Usually, the series is created and used on the same line. \n",
    "\n",
    "This syntax is a little tricky to read at first, but you'll get used to it quickly."
   ]
  },
  {
   "cell_type": "code",
   "execution_count": 71,
   "metadata": {},
   "outputs": [
    {
     "data": {
      "text/html": [
       "<div>\n",
       "<style scoped>\n",
       "    .dataframe tbody tr th:only-of-type {\n",
       "        vertical-align: middle;\n",
       "    }\n",
       "\n",
       "    .dataframe tbody tr th {\n",
       "        vertical-align: top;\n",
       "    }\n",
       "\n",
       "    .dataframe thead th {\n",
       "        text-align: right;\n",
       "    }\n",
       "</style>\n",
       "<table border=\"1\" class=\"dataframe\">\n",
       "  <thead>\n",
       "    <tr style=\"text-align: right;\">\n",
       "      <th></th>\n",
       "      <th>Candidate</th>\n",
       "      <th>Party</th>\n",
       "      <th>%</th>\n",
       "      <th>Year</th>\n",
       "      <th>Result</th>\n",
       "    </tr>\n",
       "  </thead>\n",
       "  <tbody>\n",
       "    <tr>\n",
       "      <th>0</th>\n",
       "      <td>Reagan</td>\n",
       "      <td>Republican</td>\n",
       "      <td>50.7</td>\n",
       "      <td>1980</td>\n",
       "      <td>win</td>\n",
       "    </tr>\n",
       "    <tr>\n",
       "      <th>3</th>\n",
       "      <td>Reagan</td>\n",
       "      <td>Republican</td>\n",
       "      <td>58.8</td>\n",
       "      <td>1984</td>\n",
       "      <td>win</td>\n",
       "    </tr>\n",
       "    <tr>\n",
       "      <th>5</th>\n",
       "      <td>Bush</td>\n",
       "      <td>Republican</td>\n",
       "      <td>53.4</td>\n",
       "      <td>1988</td>\n",
       "      <td>win</td>\n",
       "    </tr>\n",
       "    <tr>\n",
       "      <th>7</th>\n",
       "      <td>Clinton</td>\n",
       "      <td>Democratic</td>\n",
       "      <td>43.0</td>\n",
       "      <td>1992</td>\n",
       "      <td>win</td>\n",
       "    </tr>\n",
       "    <tr>\n",
       "      <th>10</th>\n",
       "      <td>Clinton</td>\n",
       "      <td>Democratic</td>\n",
       "      <td>49.2</td>\n",
       "      <td>1996</td>\n",
       "      <td>win</td>\n",
       "    </tr>\n",
       "    <tr>\n",
       "      <th>14</th>\n",
       "      <td>Bush</td>\n",
       "      <td>Republican</td>\n",
       "      <td>47.9</td>\n",
       "      <td>2000</td>\n",
       "      <td>win</td>\n",
       "    </tr>\n",
       "    <tr>\n",
       "      <th>16</th>\n",
       "      <td>Bush</td>\n",
       "      <td>Republican</td>\n",
       "      <td>50.7</td>\n",
       "      <td>2004</td>\n",
       "      <td>win</td>\n",
       "    </tr>\n",
       "    <tr>\n",
       "      <th>17</th>\n",
       "      <td>Obama</td>\n",
       "      <td>Democratic</td>\n",
       "      <td>52.9</td>\n",
       "      <td>2008</td>\n",
       "      <td>win</td>\n",
       "    </tr>\n",
       "    <tr>\n",
       "      <th>19</th>\n",
       "      <td>Obama</td>\n",
       "      <td>Democratic</td>\n",
       "      <td>51.1</td>\n",
       "      <td>2012</td>\n",
       "      <td>win</td>\n",
       "    </tr>\n",
       "    <tr>\n",
       "      <th>22</th>\n",
       "      <td>Trump</td>\n",
       "      <td>Republican</td>\n",
       "      <td>46.1</td>\n",
       "      <td>2016</td>\n",
       "      <td>win</td>\n",
       "    </tr>\n",
       "    <tr>\n",
       "      <th>23</th>\n",
       "      <td>Biden</td>\n",
       "      <td>Democratic</td>\n",
       "      <td>51.3</td>\n",
       "      <td>2020</td>\n",
       "      <td>win</td>\n",
       "    </tr>\n",
       "  </tbody>\n",
       "</table>\n",
       "</div>"
      ],
      "text/plain": [
       "   Candidate       Party     %  Year Result\n",
       "0     Reagan  Republican  50.7  1980    win\n",
       "3     Reagan  Republican  58.8  1984    win\n",
       "5       Bush  Republican  53.4  1988    win\n",
       "7    Clinton  Democratic  43.0  1992    win\n",
       "10   Clinton  Democratic  49.2  1996    win\n",
       "14      Bush  Republican  47.9  2000    win\n",
       "16      Bush  Republican  50.7  2004    win\n",
       "17     Obama  Democratic  52.9  2008    win\n",
       "19     Obama  Democratic  51.1  2012    win\n",
       "22     Trump  Republican  46.1  2016    win\n",
       "23     Biden  Democratic  51.3  2020    win"
      ]
     },
     "execution_count": 71,
     "metadata": {},
     "output_type": "execute_result"
    }
   ],
   "source": [
    "elections.loc[elections.loc[:,'Result'] == 'win']"
   ]
  },
  {
   "cell_type": "markdown",
   "metadata": {},
   "source": [
    "We can select multiple criteria by creating multiple boolean Series and combining them using the `&` operator."
   ]
  },
  {
   "cell_type": "code",
   "execution_count": 72,
   "metadata": {},
   "outputs": [],
   "source": [
    "win50plus = (elections.loc[:,'Result'] == 'win') & (elections.loc[:,'%'] < 50)"
   ]
  },
  {
   "cell_type": "code",
   "execution_count": 73,
   "metadata": {},
   "outputs": [
    {
     "data": {
      "text/plain": [
       "0    False\n",
       "1    False\n",
       "2    False\n",
       "3    False\n",
       "4    False\n",
       "dtype: bool"
      ]
     },
     "execution_count": 73,
     "metadata": {},
     "output_type": "execute_result"
    }
   ],
   "source": [
    "win50plus.head(5)"
   ]
  },
  {
   "cell_type": "markdown",
   "metadata": {},
   "source": [
    "Here I'll slip into the '[]' mode instead of the .loc[] mode so you can "
   ]
  },
  {
   "cell_type": "code",
   "execution_count": 75,
   "metadata": {
    "scrolled": true
   },
   "outputs": [
    {
     "data": {
      "text/html": [
       "<div>\n",
       "<style scoped>\n",
       "    .dataframe tbody tr th:only-of-type {\n",
       "        vertical-align: middle;\n",
       "    }\n",
       "\n",
       "    .dataframe tbody tr th {\n",
       "        vertical-align: top;\n",
       "    }\n",
       "\n",
       "    .dataframe thead th {\n",
       "        text-align: right;\n",
       "    }\n",
       "</style>\n",
       "<table border=\"1\" class=\"dataframe\">\n",
       "  <thead>\n",
       "    <tr style=\"text-align: right;\">\n",
       "      <th></th>\n",
       "      <th>Candidate</th>\n",
       "      <th>Party</th>\n",
       "      <th>%</th>\n",
       "      <th>Year</th>\n",
       "      <th>Result</th>\n",
       "    </tr>\n",
       "  </thead>\n",
       "  <tbody>\n",
       "    <tr>\n",
       "      <th>7</th>\n",
       "      <td>Clinton</td>\n",
       "      <td>Democratic</td>\n",
       "      <td>43.0</td>\n",
       "      <td>1992</td>\n",
       "      <td>win</td>\n",
       "    </tr>\n",
       "    <tr>\n",
       "      <th>10</th>\n",
       "      <td>Clinton</td>\n",
       "      <td>Democratic</td>\n",
       "      <td>49.2</td>\n",
       "      <td>1996</td>\n",
       "      <td>win</td>\n",
       "    </tr>\n",
       "    <tr>\n",
       "      <th>14</th>\n",
       "      <td>Bush</td>\n",
       "      <td>Republican</td>\n",
       "      <td>47.9</td>\n",
       "      <td>2000</td>\n",
       "      <td>win</td>\n",
       "    </tr>\n",
       "    <tr>\n",
       "      <th>22</th>\n",
       "      <td>Trump</td>\n",
       "      <td>Republican</td>\n",
       "      <td>46.1</td>\n",
       "      <td>2016</td>\n",
       "      <td>win</td>\n",
       "    </tr>\n",
       "  </tbody>\n",
       "</table>\n",
       "</div>"
      ],
      "text/plain": [
       "   Candidate       Party     %  Year Result\n",
       "7    Clinton  Democratic  43.0  1992    win\n",
       "10   Clinton  Democratic  49.2  1996    win\n",
       "14      Bush  Republican  47.9  2000    win\n",
       "22     Trump  Republican  46.1  2016    win"
      ]
     },
     "execution_count": 75,
     "metadata": {},
     "output_type": "execute_result"
    }
   ],
   "source": [
    "elections[win50plus]\n"
   ]
  },
  {
   "cell_type": "markdown",
   "metadata": {},
   "source": [
    "The | operator is the symbol for or."
   ]
  },
  {
   "cell_type": "code",
   "execution_count": null,
   "metadata": {},
   "outputs": [],
   "source": [
    "elections[(elections['Party'] == 'Republican')\n",
    "          | (elections['Party'] == \"Democratic\")]"
   ]
  },
  {
   "cell_type": "markdown",
   "metadata": {},
   "source": [
    "If we have multiple conditions (say Republican or Democratic), we can use the isin operator to simplify our code."
   ]
  },
  {
   "cell_type": "code",
   "execution_count": null,
   "metadata": {},
   "outputs": [],
   "source": [
    "elections['Party'].isin([\"Republican\", \"Democratic\"])"
   ]
  },
  {
   "cell_type": "code",
   "execution_count": null,
   "metadata": {},
   "outputs": [],
   "source": [
    "elections[elections['Party'].isin([\"Republican\", \"Democratic\"])]"
   ]
  },
  {
   "cell_type": "markdown",
   "metadata": {},
   "source": [
    "# Query()\n",
    "\n",
    "An alternate simpler way to get back a specific set of rows is to use the `query` command. The query command allows a method of access that many people find much more natural and easy to read. "
   ]
  },
  {
   "cell_type": "code",
   "execution_count": 76,
   "metadata": {},
   "outputs": [
    {
     "name": "stdout",
     "output_type": "stream",
     "text": [
      "\u001b[0;31mSignature:\u001b[0m \u001b[0melections\u001b[0m\u001b[0;34m.\u001b[0m\u001b[0mquery\u001b[0m\u001b[0;34m(\u001b[0m\u001b[0mexpr\u001b[0m\u001b[0;34m:\u001b[0m \u001b[0;34m'str'\u001b[0m\u001b[0;34m,\u001b[0m \u001b[0;34m*\u001b[0m\u001b[0;34m,\u001b[0m \u001b[0minplace\u001b[0m\u001b[0;34m:\u001b[0m \u001b[0;34m'bool'\u001b[0m \u001b[0;34m=\u001b[0m \u001b[0;32mFalse\u001b[0m\u001b[0;34m,\u001b[0m \u001b[0;34m**\u001b[0m\u001b[0mkwargs\u001b[0m\u001b[0;34m)\u001b[0m \u001b[0;34m->\u001b[0m \u001b[0;34m'DataFrame | None'\u001b[0m\u001b[0;34m\u001b[0m\u001b[0;34m\u001b[0m\u001b[0m\n",
      "\u001b[0;31mDocstring:\u001b[0m\n",
      "Query the columns of a DataFrame with a boolean expression.\n",
      "\n",
      "Parameters\n",
      "----------\n",
      "expr : str\n",
      "    The query string to evaluate.\n",
      "\n",
      "    You can refer to variables\n",
      "    in the environment by prefixing them with an '@' character like\n",
      "    ``@a + b``.\n",
      "\n",
      "    You can refer to column names that are not valid Python variable names\n",
      "    by surrounding them in backticks. Thus, column names containing spaces\n",
      "    or punctuations (besides underscores) or starting with digits must be\n",
      "    surrounded by backticks. (For example, a column named \"Area (cm^2)\" would\n",
      "    be referenced as ```Area (cm^2)```). Column names which are Python keywords\n",
      "    (like \"list\", \"for\", \"import\", etc) cannot be used.\n",
      "\n",
      "    For example, if one of your columns is called ``a a`` and you want\n",
      "    to sum it with ``b``, your query should be ```a a` + b``.\n",
      "\n",
      "inplace : bool\n",
      "    Whether to modify the DataFrame rather than creating a new one.\n",
      "**kwargs\n",
      "    See the documentation for :func:`eval` for complete details\n",
      "    on the keyword arguments accepted by :meth:`DataFrame.query`.\n",
      "\n",
      "Returns\n",
      "-------\n",
      "DataFrame or None\n",
      "    DataFrame resulting from the provided query expression or\n",
      "    None if ``inplace=True``.\n",
      "\n",
      "See Also\n",
      "--------\n",
      "eval : Evaluate a string describing operations on\n",
      "    DataFrame columns.\n",
      "DataFrame.eval : Evaluate a string describing operations on\n",
      "    DataFrame columns.\n",
      "\n",
      "Notes\n",
      "-----\n",
      "The result of the evaluation of this expression is first passed to\n",
      ":attr:`DataFrame.loc` and if that fails because of a\n",
      "multidimensional key (e.g., a DataFrame) then the result will be passed\n",
      "to :meth:`DataFrame.__getitem__`.\n",
      "\n",
      "This method uses the top-level :func:`eval` function to\n",
      "evaluate the passed query.\n",
      "\n",
      "The :meth:`~pandas.DataFrame.query` method uses a slightly\n",
      "modified Python syntax by default. For example, the ``&`` and ``|``\n",
      "(bitwise) operators have the precedence of their boolean cousins,\n",
      ":keyword:`and` and :keyword:`or`. This *is* syntactically valid Python,\n",
      "however the semantics are different.\n",
      "\n",
      "You can change the semantics of the expression by passing the keyword\n",
      "argument ``parser='python'``. This enforces the same semantics as\n",
      "evaluation in Python space. Likewise, you can pass ``engine='python'``\n",
      "to evaluate an expression using Python itself as a backend. This is not\n",
      "recommended as it is inefficient compared to using ``numexpr`` as the\n",
      "engine.\n",
      "\n",
      "The :attr:`DataFrame.index` and\n",
      ":attr:`DataFrame.columns` attributes of the\n",
      ":class:`~pandas.DataFrame` instance are placed in the query namespace\n",
      "by default, which allows you to treat both the index and columns of the\n",
      "frame as a column in the frame.\n",
      "The identifier ``index`` is used for the frame index; you can also\n",
      "use the name of the index to identify it in a query. Please note that\n",
      "Python keywords may not be used as identifiers.\n",
      "\n",
      "For further details and examples see the ``query`` documentation in\n",
      ":ref:`indexing <indexing.query>`.\n",
      "\n",
      "*Backtick quoted variables*\n",
      "\n",
      "Backtick quoted variables are parsed as literal Python code and\n",
      "are converted internally to a Python valid identifier.\n",
      "This can lead to the following problems.\n",
      "\n",
      "During parsing a number of disallowed characters inside the backtick\n",
      "quoted string are replaced by strings that are allowed as a Python identifier.\n",
      "These characters include all operators in Python, the space character, the\n",
      "question mark, the exclamation mark, the dollar sign, and the euro sign.\n",
      "For other characters that fall outside the ASCII range (U+0001..U+007F)\n",
      "and those that are not further specified in PEP 3131,\n",
      "the query parser will raise an error.\n",
      "This excludes whitespace different than the space character,\n",
      "but also the hashtag (as it is used for comments) and the backtick\n",
      "itself (backtick can also not be escaped).\n",
      "\n",
      "In a special case, quotes that make a pair around a backtick can\n",
      "confuse the parser.\n",
      "For example, ```it's` > `that's``` will raise an error,\n",
      "as it forms a quoted string (``'s > `that'``) with a backtick inside.\n",
      "\n",
      "See also the Python documentation about lexical analysis\n",
      "(https://docs.python.org/3/reference/lexical_analysis.html)\n",
      "in combination with the source code in :mod:`pandas.core.computation.parsing`.\n",
      "\n",
      "Examples\n",
      "--------\n",
      ">>> df = pd.DataFrame({'A': range(1, 6),\n",
      "...                    'B': range(10, 0, -2),\n",
      "...                    'C C': range(10, 5, -1)})\n",
      ">>> df\n",
      "   A   B  C C\n",
      "0  1  10   10\n",
      "1  2   8    9\n",
      "2  3   6    8\n",
      "3  4   4    7\n",
      "4  5   2    6\n",
      ">>> df.query('A > B')\n",
      "   A  B  C C\n",
      "4  5  2    6\n",
      "\n",
      "The previous expression is equivalent to\n",
      "\n",
      ">>> df[df.A > df.B]\n",
      "   A  B  C C\n",
      "4  5  2    6\n",
      "\n",
      "For columns with spaces in their name, you can use backtick quoting.\n",
      "\n",
      ">>> df.query('B == `C C`')\n",
      "   A   B  C C\n",
      "0  1  10   10\n",
      "\n",
      "The previous expression is equivalent to\n",
      "\n",
      ">>> df[df.B == df['C C']]\n",
      "   A   B  C C\n",
      "0  1  10   10\n",
      "\u001b[0;31mFile:\u001b[0m      ~/mambaforge/envs/jmaPy38/lib/python3.8/site-packages/pandas/core/frame.py\n",
      "\u001b[0;31mType:\u001b[0m      method"
     ]
    }
   ],
   "source": [
    "elections.query?"
   ]
  },
  {
   "cell_type": "code",
   "execution_count": 77,
   "metadata": {},
   "outputs": [
    {
     "data": {
      "text/html": [
       "<div>\n",
       "<style scoped>\n",
       "    .dataframe tbody tr th:only-of-type {\n",
       "        vertical-align: middle;\n",
       "    }\n",
       "\n",
       "    .dataframe tbody tr th {\n",
       "        vertical-align: top;\n",
       "    }\n",
       "\n",
       "    .dataframe thead th {\n",
       "        text-align: right;\n",
       "    }\n",
       "</style>\n",
       "<table border=\"1\" class=\"dataframe\">\n",
       "  <thead>\n",
       "    <tr style=\"text-align: right;\">\n",
       "      <th></th>\n",
       "      <th>Candidate</th>\n",
       "      <th>Party</th>\n",
       "      <th>%</th>\n",
       "      <th>Year</th>\n",
       "      <th>Result</th>\n",
       "    </tr>\n",
       "  </thead>\n",
       "  <tbody>\n",
       "    <tr>\n",
       "      <th>0</th>\n",
       "      <td>Reagan</td>\n",
       "      <td>Republican</td>\n",
       "      <td>50.7</td>\n",
       "      <td>1980</td>\n",
       "      <td>win</td>\n",
       "    </tr>\n",
       "    <tr>\n",
       "      <th>3</th>\n",
       "      <td>Reagan</td>\n",
       "      <td>Republican</td>\n",
       "      <td>58.8</td>\n",
       "      <td>1984</td>\n",
       "      <td>win</td>\n",
       "    </tr>\n",
       "    <tr>\n",
       "      <th>5</th>\n",
       "      <td>Bush</td>\n",
       "      <td>Republican</td>\n",
       "      <td>53.4</td>\n",
       "      <td>1988</td>\n",
       "      <td>win</td>\n",
       "    </tr>\n",
       "    <tr>\n",
       "      <th>7</th>\n",
       "      <td>Clinton</td>\n",
       "      <td>Democratic</td>\n",
       "      <td>43.0</td>\n",
       "      <td>1992</td>\n",
       "      <td>win</td>\n",
       "    </tr>\n",
       "    <tr>\n",
       "      <th>10</th>\n",
       "      <td>Clinton</td>\n",
       "      <td>Democratic</td>\n",
       "      <td>49.2</td>\n",
       "      <td>1996</td>\n",
       "      <td>win</td>\n",
       "    </tr>\n",
       "  </tbody>\n",
       "</table>\n",
       "</div>"
      ],
      "text/plain": [
       "   Candidate       Party     %  Year Result\n",
       "0     Reagan  Republican  50.7  1980    win\n",
       "3     Reagan  Republican  58.8  1984    win\n",
       "5       Bush  Republican  53.4  1988    win\n",
       "7    Clinton  Democratic  43.0  1992    win\n",
       "10   Clinton  Democratic  49.2  1996    win"
      ]
     },
     "execution_count": 77,
     "metadata": {},
     "output_type": "execute_result"
    }
   ],
   "source": [
    "elections.query(\"Result == 'win' and Year < 2000\")"
   ]
  },
  {
   "cell_type": "markdown",
   "metadata": {},
   "source": [
    "## Warning here.  \n",
    "\n",
    "\n",
    "We didn't do it above.  But it's possible to use names for rows as well as columns.  \n",
    "\n",
    "Note: The `loc` command won't work with numeric arguments if we're using a dataframe that has labeled rows instead.\n"
   ]
  },
  {
   "cell_type": "markdown",
   "metadata": {},
   "source": [
    "Loc also supports slicing (for all types, including numeric and string labels!). Note that the slicing for loc is **inclusive**, even for numeric slices."
   ]
  },
  {
   "cell_type": "code",
   "execution_count": null,
   "metadata": {
    "scrolled": true
   },
   "outputs": [],
   "source": [
    "elections.loc[0:4, 'Candidate':'Year']"
   ]
  },
  {
   "cell_type": "markdown",
   "metadata": {},
   "source": [
    "If we omit the column argument altogether, the default behavior is to retrieve all columns. "
   ]
  },
  {
   "cell_type": "code",
   "execution_count": null,
   "metadata": {},
   "outputs": [],
   "source": [
    "elections.loc[[2, 4, 5]]"
   ]
  },
  {
   "cell_type": "markdown",
   "metadata": {},
   "source": [
    "Loc also supports boolean array inputs instead of labels. The Boolean arrays _must_ be of the same length as the row/column shape of the dataframe, respectively (in versions prior to 0.25, Pandas used to allow size mismatches and would assume the missing values were all False, [this was changed in 2019](https://github.com/pandas-dev/pandas/pull/26911))."
   ]
  },
  {
   "cell_type": "code",
   "execution_count": null,
   "metadata": {},
   "outputs": [],
   "source": [
    "elections.loc[[True, False, False, True, False, False, True, True, True, False, False, True, \n",
    "               True, True, False, True, True, False, False, False, True, False, False], # row mask\n",
    "              [True, False, False, True, True] # column mask\n",
    "             ]"
   ]
  },
  {
   "cell_type": "code",
   "execution_count": null,
   "metadata": {
    "scrolled": true
   },
   "outputs": [],
   "source": [
    "elections.loc[[0, 3], ['Candidate', 'Year']]"
   ]
  },
  {
   "cell_type": "markdown",
   "metadata": {},
   "source": [
    "We can use boolean array arguments for one axis of the data, and labels for the other."
   ]
  },
  {
   "cell_type": "code",
   "execution_count": null,
   "metadata": {},
   "outputs": [],
   "source": [
    "elections.loc[[True, False, False, True, False, False, True, True, True, False, False, True, \n",
    "               True, True, False, True, True, False, False, False, True, False, False], # row mask\n",
    "              \n",
    "              'Candidate':'%' # column label slice\n",
    "             ]"
   ]
  },
  {
   "cell_type": "markdown",
   "metadata": {},
   "source": [
    "What do you think happens if you give a single value  arguments for the requested rows AND columns?"
   ]
  },
  {
   "cell_type": "code",
   "execution_count": 78,
   "metadata": {},
   "outputs": [
    {
     "data": {
      "text/plain": [
       "48.3"
      ]
     },
     "execution_count": 78,
     "metadata": {},
     "output_type": "execute_result"
    }
   ],
   "source": [
    "elections.loc[15, '%']"
   ]
  },
  {
   "cell_type": "markdown",
   "metadata": {},
   "source": [
    "## Positional access with `iloc`"
   ]
  },
  {
   "cell_type": "markdown",
   "metadata": {},
   "source": [
    ".loc[]'s cousin .iloc[] is very similar, but is used to access based on numerical position instead of label. For example, to access to the top 3 rows and top 3 columns of a table, we can use [0:3, 0:3]. iloc slicing is **exclusive**, just like standard Python slicing of numerical values."
   ]
  },
  {
   "cell_type": "code",
   "execution_count": null,
   "metadata": {},
   "outputs": [],
   "source": [
    "elections.head(5)"
   ]
  },
  {
   "cell_type": "code",
   "execution_count": null,
   "metadata": {},
   "outputs": [],
   "source": [
    "elections.iloc[:3, 2:]"
   ]
  },
  {
   "cell_type": "markdown",
   "metadata": {},
   "source": [
    "We will use both loc and iloc in the course. Loc is generally preferred for a number of reasons, for example: \n",
    "\n",
    "1. It is harder to make mistakes since you have to literally write out what you want to get.\n",
    "2. Code is easier to read, because the reader doesn't have to know e.g. what column #31 represents.\n",
    "3. It is robust against permutations of the data, e.g. the social security administration switches the order of two columns.\n",
    "\n",
    "However, iloc is sometimes more convenient. We'll provide examples of when iloc is the superior choice."
   ]
  },
  {
   "cell_type": "markdown",
   "metadata": {},
   "source": [
    "## Quick Challenge"
   ]
  },
  {
   "cell_type": "markdown",
   "metadata": {},
   "source": [
    "Which of the following expressions return DataFrame of the first 3 Candidate and Year for candidates that won with more than 50% of the vote."
   ]
  },
  {
   "cell_type": "code",
   "execution_count": null,
   "metadata": {},
   "outputs": [],
   "source": [
    "elections.head(10)"
   ]
  },
  {
   "cell_type": "code",
   "execution_count": null,
   "metadata": {
    "scrolled": true
   },
   "outputs": [],
   "source": [
    "elections.iloc[[0, 3, 5], [0, 3]]"
   ]
  },
  {
   "cell_type": "code",
   "execution_count": null,
   "metadata": {},
   "outputs": [],
   "source": [
    "elections.loc[[0, 3, 5], \"Candidate\":\"Year\"]"
   ]
  },
  {
   "cell_type": "code",
   "execution_count": null,
   "metadata": {},
   "outputs": [],
   "source": [
    "elections.loc[elections[\"%\"] > 50, [\"Candidate\", \"Year\"]].head(3)"
   ]
  },
  {
   "cell_type": "code",
   "execution_count": null,
   "metadata": {},
   "outputs": [],
   "source": [
    "elections.loc[elections[\"%\"] > 50, [\"Candidate\", \"Year\"]].iloc[0:2, :]"
   ]
  },
  {
   "cell_type": "markdown",
   "metadata": {},
   "source": [
    "## Sampling"
   ]
  },
  {
   "cell_type": "markdown",
   "metadata": {},
   "source": [
    "Pandas dataframes also make it easy to get a sample. We simply use the `sample` method and provide the number of samples that we'd like as the arugment. Sampling is done without replacement by default. Set `replace=True` if you want replacement.\n",
    "\n",
    "This is very useful for big datasets and you want to get an idea for what things are in it without drowning in a huge output or only seeing the top. "
   ]
  },
  {
   "cell_type": "code",
   "execution_count": null,
   "metadata": {
    "scrolled": true
   },
   "outputs": [],
   "source": [
    "elections.sample(10)"
   ]
  },
  {
   "cell_type": "code",
   "execution_count": null,
   "metadata": {},
   "outputs": [],
   "source": [
    "elections.query(\"Year < 1992\").sample(50, replace=True)\n"
   ]
  },
  {
   "cell_type": "markdown",
   "metadata": {},
   "source": [
    "## Handy Properties and Utility Functions for Series and DataFrames"
   ]
  },
  {
   "cell_type": "markdown",
   "metadata": {},
   "source": [
    "#### Python Operations on Numerical DataFrames and Series"
   ]
  },
  {
   "cell_type": "markdown",
   "metadata": {},
   "source": [
    "Consider a series of only the vote percentages of election winners.  I'm going to write two methods that do exactly the same thing below.  One uses multiple lines of code, one squashes them together. "
   ]
  },
  {
   "cell_type": "code",
   "execution_count": 81,
   "metadata": {},
   "outputs": [
    {
     "data": {
      "text/plain": [
       "0     50.7\n",
       "3     58.8\n",
       "5     53.4\n",
       "7     43.0\n",
       "10    49.2\n",
       "14    47.9\n",
       "16    50.7\n",
       "17    52.9\n",
       "19    51.1\n",
       "22    46.1\n",
       "23    51.3\n",
       "Name: %, dtype: float64"
      ]
     },
     "execution_count": 81,
     "metadata": {},
     "output_type": "execute_result"
    }
   ],
   "source": [
    "#First create a winners dataframe of just the winners\n",
    "winners = elections.query(\"Result == 'win'\")\n",
    "#Next take just the \"%\" column from the winners dataframe.   \n",
    "winners_percentage = winners[\"%\"]\n",
    "winners_percentage"
   ]
  },
  {
   "cell_type": "code",
   "execution_count": 79,
   "metadata": {
    "scrolled": true
   },
   "outputs": [
    {
     "data": {
      "text/plain": [
       "0     50.7\n",
       "3     58.8\n",
       "5     53.4\n",
       "7     43.0\n",
       "10    49.2\n",
       "14    47.9\n",
       "16    50.7\n",
       "17    52.9\n",
       "19    51.1\n",
       "22    46.1\n",
       "23    51.3\n",
       "Name: %, dtype: float64"
      ]
     },
     "execution_count": 79,
     "metadata": {},
     "output_type": "execute_result"
    }
   ],
   "source": [
    "#Does the same as above.   But doesn't create another variable \"winners\".  \n",
    "#You'll often see people chaining multiple things together on a single line. \n",
    "winners_percentage = elections.query(\"Result == 'win'\")[\"%\"]\n",
    "winners_percentage"
   ]
  },
  {
   "cell_type": "markdown",
   "metadata": {},
   "source": []
  },
  {
   "cell_type": "markdown",
   "metadata": {},
   "source": [
    "We can perform various Python operations (including numpy operations) to DataFrames and Series."
   ]
  },
  {
   "cell_type": "code",
   "execution_count": null,
   "metadata": {},
   "outputs": [],
   "source": [
    "max(winners_percentage)"
   ]
  },
  {
   "cell_type": "code",
   "execution_count": null,
   "metadata": {},
   "outputs": [],
   "source": [
    "np.mean(winners_percentage)"
   ]
  },
  {
   "cell_type": "markdown",
   "metadata": {},
   "source": [
    "#### Handy Utility Methods"
   ]
  },
  {
   "cell_type": "markdown",
   "metadata": {},
   "source": [
    "The head, shape, size, and describe methods can be used to quickly get a good sense of the data we're working with. Remember when I said above we can use names for labeling rows?  This is a good dataset to demonstrate that. "
   ]
  },
  {
   "cell_type": "code",
   "execution_count": null,
   "metadata": {},
   "outputs": [],
   "source": [
    "mottos = pd.read_csv(\"mottos.csv\", index_col=\"State\")"
   ]
  },
  {
   "cell_type": "code",
   "execution_count": null,
   "metadata": {},
   "outputs": [],
   "source": [
    "mottos.head(20)"
   ]
  },
  {
   "cell_type": "code",
   "execution_count": null,
   "metadata": {},
   "outputs": [],
   "source": [
    "mottos.size"
   ]
  },
  {
   "cell_type": "markdown",
   "metadata": {},
   "source": [
    "The fact that the size is 200 means our data file is relatively small, with only 200 total entries."
   ]
  },
  {
   "cell_type": "code",
   "execution_count": null,
   "metadata": {},
   "outputs": [],
   "source": [
    "mottos.shape"
   ]
  },
  {
   "cell_type": "markdown",
   "metadata": {},
   "source": [
    "Since we're looking at data for states, and we see the number 50, it looks like we've mostly likely got a complete dataset that omits Washington D.C. and U.S. territories like Guam and Puerto Rico."
   ]
  },
  {
   "cell_type": "code",
   "execution_count": null,
   "metadata": {},
   "outputs": [],
   "source": [
    "mottos.describe()"
   ]
  },
  {
   "cell_type": "markdown",
   "metadata": {},
   "source": [
    "Above, we see a quick summary of all the data. For example, the most common language for mottos is Latin, which covers 23 different states. Does anything else seem surprising?"
   ]
  },
  {
   "cell_type": "markdown",
   "metadata": {},
   "source": [
    "We can get a direct reference to the index using .index."
   ]
  },
  {
   "cell_type": "code",
   "execution_count": null,
   "metadata": {},
   "outputs": [],
   "source": [
    "mottos.index"
   ]
  },
  {
   "cell_type": "markdown",
   "metadata": {},
   "source": [
    "We can also access individual properties of the index, for example, `mottos.index.name`."
   ]
  },
  {
   "cell_type": "code",
   "execution_count": null,
   "metadata": {},
   "outputs": [],
   "source": [
    "mottos.index.name"
   ]
  },
  {
   "cell_type": "markdown",
   "metadata": {},
   "source": [
    "This reflects the fact that in our data frame, the index IS the state name!"
   ]
  },
  {
   "cell_type": "code",
   "execution_count": null,
   "metadata": {},
   "outputs": [],
   "source": [
    "mottos.head(2)"
   ]
  },
  {
   "cell_type": "markdown",
   "metadata": {},
   "source": [
    "It turns out the columns also have an Index. We can access this index by using `.columns`."
   ]
  },
  {
   "cell_type": "code",
   "execution_count": null,
   "metadata": {},
   "outputs": [],
   "source": [
    "mottos.head(2)"
   ]
  },
  {
   "cell_type": "markdown",
   "metadata": {},
   "source": [
    "There are also a ton of useful utility methods we can use with Data Frames and Series. For example, we can create a copy of a data frame sorted by a specific column using `sort_values`."
   ]
  },
  {
   "cell_type": "code",
   "execution_count": null,
   "metadata": {},
   "outputs": [],
   "source": [
    "elections.sort_values('%', ascending=False)"
   ]
  },
  {
   "cell_type": "markdown",
   "metadata": {},
   "source": [
    "As mentioned before, all Data Frame methods return a copy and do **not** modify the original data structure, unless you set inplace to True."
   ]
  },
  {
   "cell_type": "code",
   "execution_count": null,
   "metadata": {},
   "outputs": [],
   "source": [
    "elections.head(5)"
   ]
  },
  {
   "cell_type": "markdown",
   "metadata": {},
   "source": [
    "If we want to sort in reverse order, we can set `ascending=False`."
   ]
  },
  {
   "cell_type": "code",
   "execution_count": null,
   "metadata": {},
   "outputs": [],
   "source": [
    "elections.sort_values('%', ascending=False)"
   ]
  },
  {
   "cell_type": "markdown",
   "metadata": {},
   "source": [
    "We can also use `sort_values` on Series objects."
   ]
  },
  {
   "cell_type": "code",
   "execution_count": null,
   "metadata": {
    "scrolled": true
   },
   "outputs": [],
   "source": [
    "mottos['Language'].sort_values(ascending=False).head(10)"
   ]
  },
  {
   "cell_type": "markdown",
   "metadata": {},
   "source": [
    "For Series, the `value_counts` method is often quite handy."
   ]
  },
  {
   "cell_type": "code",
   "execution_count": null,
   "metadata": {},
   "outputs": [],
   "source": [
    "elections['Party'].value_counts()"
   ]
  },
  {
   "cell_type": "code",
   "execution_count": null,
   "metadata": {},
   "outputs": [],
   "source": [
    "mottos['Language'].value_counts()"
   ]
  },
  {
   "cell_type": "markdown",
   "metadata": {},
   "source": [
    "Also commonly used is the `unique` method, which returns all unique values as a numpy array."
   ]
  },
  {
   "cell_type": "code",
   "execution_count": null,
   "metadata": {},
   "outputs": [],
   "source": [
    "mottos['Language'].unique()"
   ]
  },
  {
   "cell_type": "markdown",
   "metadata": {},
   "source": [
    "## Baby Names Data"
   ]
  },
  {
   "cell_type": "markdown",
   "metadata": {},
   "source": [
    "Now let's play around a bit with a large baby names dataset that is publicly available. We'll start by loading that dataset from the social security administration's website.\n",
    "\n",
    "To keep the data small enough we're going to look at only California rather than looking at the national dataset."
   ]
  },
  {
   "cell_type": "code",
   "execution_count": 83,
   "metadata": {},
   "outputs": [
    {
     "data": {
      "text/html": [
       "<div>\n",
       "<style scoped>\n",
       "    .dataframe tbody tr th:only-of-type {\n",
       "        vertical-align: middle;\n",
       "    }\n",
       "\n",
       "    .dataframe tbody tr th {\n",
       "        vertical-align: top;\n",
       "    }\n",
       "\n",
       "    .dataframe thead th {\n",
       "        text-align: right;\n",
       "    }\n",
       "</style>\n",
       "<table border=\"1\" class=\"dataframe\">\n",
       "  <thead>\n",
       "    <tr style=\"text-align: right;\">\n",
       "      <th></th>\n",
       "      <th>State</th>\n",
       "      <th>Sex</th>\n",
       "      <th>Year</th>\n",
       "      <th>Name</th>\n",
       "      <th>Count</th>\n",
       "    </tr>\n",
       "  </thead>\n",
       "  <tbody>\n",
       "    <tr>\n",
       "      <th>412150</th>\n",
       "      <td>CA</td>\n",
       "      <td>M</td>\n",
       "      <td>2023</td>\n",
       "      <td>Gilberto</td>\n",
       "      <td>20</td>\n",
       "    </tr>\n",
       "    <tr>\n",
       "      <th>150815</th>\n",
       "      <td>CA</td>\n",
       "      <td>F</td>\n",
       "      <td>2000</td>\n",
       "      <td>Vania</td>\n",
       "      <td>13</td>\n",
       "    </tr>\n",
       "    <tr>\n",
       "      <th>136558</th>\n",
       "      <td>CA</td>\n",
       "      <td>F</td>\n",
       "      <td>1996</td>\n",
       "      <td>Melyssa</td>\n",
       "      <td>13</td>\n",
       "    </tr>\n",
       "    <tr>\n",
       "      <th>308830</th>\n",
       "      <td>CA</td>\n",
       "      <td>M</td>\n",
       "      <td>1984</td>\n",
       "      <td>Weston</td>\n",
       "      <td>40</td>\n",
       "    </tr>\n",
       "    <tr>\n",
       "      <th>348963</th>\n",
       "      <td>CA</td>\n",
       "      <td>M</td>\n",
       "      <td>2001</td>\n",
       "      <td>Myles</td>\n",
       "      <td>100</td>\n",
       "    </tr>\n",
       "  </tbody>\n",
       "</table>\n",
       "</div>"
      ],
      "text/plain": [
       "       State Sex  Year      Name  Count\n",
       "412150    CA   M  2023  Gilberto     20\n",
       "150815    CA   F  2000     Vania     13\n",
       "136558    CA   F  1996   Melyssa     13\n",
       "308830    CA   M  1984    Weston     40\n",
       "348963    CA   M  2001     Myles    100"
      ]
     },
     "execution_count": 83,
     "metadata": {},
     "output_type": "execute_result"
    }
   ],
   "source": [
    "import urllib.request\n",
    "import os.path\n",
    "import zipfile\n",
    "import pandas as pd\n",
    "\n",
    "data_url = \"https://www.ssa.gov/oact/babynames/state/namesbystate.zip\"\n",
    "local_filename = \"babynamesbystate.zip\"\n",
    "if not os.path.exists(local_filename): # if the data exists don't download again\n",
    "    with urllib.request.urlopen(data_url) as resp, open(local_filename, 'wb') as f:\n",
    "        f.write(resp.read())\n",
    "\n",
    "zf = zipfile.ZipFile(local_filename, 'r')\n",
    "\n",
    "ca_name = 'CA.TXT'\n",
    "field_names = ['State', 'Sex', 'Year', 'Name', 'Count']\n",
    "with zf.open(ca_name) as fh:\n",
    "    babynames = pd.read_csv(fh, header=None, names=field_names)\n",
    "\n",
    "babynames.sample(5)"
   ]
  },
  {
   "cell_type": "code",
   "execution_count": 4,
   "metadata": {},
   "outputs": [
    {
     "data": {
      "text/html": [
       "<div>\n",
       "<style scoped>\n",
       "    .dataframe tbody tr th:only-of-type {\n",
       "        vertical-align: middle;\n",
       "    }\n",
       "\n",
       "    .dataframe tbody tr th {\n",
       "        vertical-align: top;\n",
       "    }\n",
       "\n",
       "    .dataframe thead th {\n",
       "        text-align: right;\n",
       "    }\n",
       "</style>\n",
       "<table border=\"1\" class=\"dataframe\">\n",
       "  <thead>\n",
       "    <tr style=\"text-align: right;\">\n",
       "      <th></th>\n",
       "      <th>State</th>\n",
       "      <th>Sex</th>\n",
       "      <th>Year</th>\n",
       "      <th>Name</th>\n",
       "      <th>Count</th>\n",
       "    </tr>\n",
       "  </thead>\n",
       "  <tbody>\n",
       "    <tr>\n",
       "      <th>count</th>\n",
       "      <td>407428</td>\n",
       "      <td>407428</td>\n",
       "      <td>407428.000000</td>\n",
       "      <td>407428</td>\n",
       "      <td>407428.000000</td>\n",
       "    </tr>\n",
       "    <tr>\n",
       "      <th>unique</th>\n",
       "      <td>1</td>\n",
       "      <td>2</td>\n",
       "      <td>NaN</td>\n",
       "      <td>20437</td>\n",
       "      <td>NaN</td>\n",
       "    </tr>\n",
       "    <tr>\n",
       "      <th>top</th>\n",
       "      <td>CA</td>\n",
       "      <td>F</td>\n",
       "      <td>NaN</td>\n",
       "      <td>Jean</td>\n",
       "      <td>NaN</td>\n",
       "    </tr>\n",
       "    <tr>\n",
       "      <th>freq</th>\n",
       "      <td>407428</td>\n",
       "      <td>239537</td>\n",
       "      <td>NaN</td>\n",
       "      <td>223</td>\n",
       "      <td>NaN</td>\n",
       "    </tr>\n",
       "    <tr>\n",
       "      <th>mean</th>\n",
       "      <td>NaN</td>\n",
       "      <td>NaN</td>\n",
       "      <td>1985.733609</td>\n",
       "      <td>NaN</td>\n",
       "      <td>79.543456</td>\n",
       "    </tr>\n",
       "    <tr>\n",
       "      <th>std</th>\n",
       "      <td>NaN</td>\n",
       "      <td>NaN</td>\n",
       "      <td>27.007660</td>\n",
       "      <td>NaN</td>\n",
       "      <td>293.698654</td>\n",
       "    </tr>\n",
       "    <tr>\n",
       "      <th>min</th>\n",
       "      <td>NaN</td>\n",
       "      <td>NaN</td>\n",
       "      <td>1910.000000</td>\n",
       "      <td>NaN</td>\n",
       "      <td>5.000000</td>\n",
       "    </tr>\n",
       "    <tr>\n",
       "      <th>25%</th>\n",
       "      <td>NaN</td>\n",
       "      <td>NaN</td>\n",
       "      <td>1969.000000</td>\n",
       "      <td>NaN</td>\n",
       "      <td>7.000000</td>\n",
       "    </tr>\n",
       "    <tr>\n",
       "      <th>50%</th>\n",
       "      <td>NaN</td>\n",
       "      <td>NaN</td>\n",
       "      <td>1992.000000</td>\n",
       "      <td>NaN</td>\n",
       "      <td>13.000000</td>\n",
       "    </tr>\n",
       "    <tr>\n",
       "      <th>75%</th>\n",
       "      <td>NaN</td>\n",
       "      <td>NaN</td>\n",
       "      <td>2008.000000</td>\n",
       "      <td>NaN</td>\n",
       "      <td>38.000000</td>\n",
       "    </tr>\n",
       "    <tr>\n",
       "      <th>max</th>\n",
       "      <td>NaN</td>\n",
       "      <td>NaN</td>\n",
       "      <td>2022.000000</td>\n",
       "      <td>NaN</td>\n",
       "      <td>8260.000000</td>\n",
       "    </tr>\n",
       "  </tbody>\n",
       "</table>\n",
       "</div>"
      ],
      "text/plain": [
       "         State     Sex           Year    Name          Count\n",
       "count   407428  407428  407428.000000  407428  407428.000000\n",
       "unique       1       2            NaN   20437            NaN\n",
       "top         CA       F            NaN    Jean            NaN\n",
       "freq    407428  239537            NaN     223            NaN\n",
       "mean       NaN     NaN    1985.733609     NaN      79.543456\n",
       "std        NaN     NaN      27.007660     NaN     293.698654\n",
       "min        NaN     NaN    1910.000000     NaN       5.000000\n",
       "25%        NaN     NaN    1969.000000     NaN       7.000000\n",
       "50%        NaN     NaN    1992.000000     NaN      13.000000\n",
       "75%        NaN     NaN    2008.000000     NaN      38.000000\n",
       "max        NaN     NaN    2022.000000     NaN    8260.000000"
      ]
     },
     "execution_count": 4,
     "metadata": {},
     "output_type": "execute_result"
    }
   ],
   "source": [
    "#Note that the babynames dataset includes both numeric and non-numeric information.  describe() defaults to just showing\n",
    "# numbers for mixed datasets, include='all' will show summaries for all columns.  But look at this.  Just because it can\n",
    "# doesn't mean an output is useful. \n",
    "babynames.describe(include='all')"
   ]
  },
  {
   "cell_type": "markdown",
   "metadata": {},
   "source": [
    "# Excercises\n",
    "\n",
    "Here are a list of questions to pull from the babynames dataset.  \n",
    "\n",
    "How many unique names exist in the dataset? \n",
    "\n",
    "What was the most popular male name?\n",
    "\n",
    "What was the most popular female name?\n",
    "\n",
    "What was the most popular female and male name in 2018? \n",
    "\n",
    "What were the top-10 names for the year you were born?\n",
    "\n",
    "## AI analysis. \n",
    "I had AI generate answers for the following question:\n",
    "\n",
    "What was the most popular name in any given year? (i.e. what year had the most people with the same name and what was that name?)\n",
    "\n",
    "These answers are wrong.  Try and run the code and decide what it is doing and why it is wrong. \n",
    "\n",
    "\n",
    "## Harder goals:\n",
    "\n",
    "How many different names were given to Males compared with Females? In 1960? in 2020?\n",
    "\n",
    "\n",
    "What other questions can we ask?  Give me some questions!  \n"
   ]
  },
  {
   "cell_type": "code",
   "execution_count": null,
   "metadata": {},
   "outputs": [],
   "source": [
    "#How many unique names exist in the dataset? \n",
    "\n",
    "#replace the \"...\" and \"function_name\" below to produce the response. \n",
    "#You can also try other structure/methods to accomplish the goal if you wish. \n",
    "babynames.loc[...].function_name().function_name()\n",
    "\n"
   ]
  },
  {
   "cell_type": "code",
   "execution_count": null,
   "metadata": {},
   "outputs": [],
   "source": [
    "#What was the most popular male name?\n",
    "\n",
    "male_babies = ...\n",
    "male_babies.sort_values(...)...\n"
   ]
  },
  {
   "cell_type": "code",
   "execution_count": null,
   "metadata": {},
   "outputs": [],
   "source": [
    "#What was the most popular female and male name in 2018? \n",
    "\n",
    "#The following structure is intdended to create 2 seperate variables and print them.  \n",
    "#You can use another structure and/or create seperate cell to do male/female seperation. \n",
    "\n",
    "#Extract only females from 2018\n",
    "femaleNames2018 = ...\n",
    "#Extract only males from 2018\n",
    "maleNames2018 = ...\n",
    "\n",
    "#Extract most popular name from female dataset\n",
    "mostPopularFemale2018 = femaleNames2018.sort_values(...)...\n",
    "#Extract most popular name from male dataset\n",
    "mostPopularMale2018 = maleNames2018.sort_values(...)...\n",
    "\n",
    "\n",
    "print(mostPopularFemale2018)\n",
    "print(mostPopularMale2018)"
   ]
  },
  {
   "cell_type": "code",
   "execution_count": null,
   "metadata": {},
   "outputs": [],
   "source": [
    "#What were the top-10 names for the year you were born?\n",
    "\n",
    "#Now try this without any scaffolding prompts\n",
    "\n"
   ]
  },
  {
   "cell_type": "markdown",
   "metadata": {},
   "source": [
    "AI attempts:\n"
   ]
  },
  {
   "cell_type": "markdown",
   "metadata": {},
   "source": [
    "Here are AI attempts at the following question (Using ChatGPT 3.5). \n",
    "\n",
    "What was the most popular name in any given year? (i.e. what year had the most people with the same name and what was that name?)\n",
    "\n",
    "I asked it three times and these are the responses I got.  All of these outputs are wrong.    Why?  Some of them produce outputs but not what is being asked for. Sometimes there are errors as the code won't execute.  Try and identify the reason for the bug. \n",
    "\n",
    "Hint:  First understand exactly what output the question is asking for.  \n",
    "Further hint:  There are subtle assumptions in the phrasing of this question.   Data science often hits these issues. It's easy to ask a question, but when you actually try to quantify the question there's often unstated issues that aren't clear.  \n"
   ]
  },
  {
   "cell_type": "code",
   "execution_count": 6,
   "metadata": {},
   "outputs": [
    {
     "data": {
      "text/plain": [
       "Index(['State', 'Sex', 'Year', 'Name', 'Count'], dtype='object')"
      ]
     },
     "execution_count": 6,
     "metadata": {},
     "output_type": "execute_result"
    }
   ],
   "source": [
    "#Attempt one. \n",
    "most_popular_name_year = babynames.groupby('Year')['Name'].agg(lambda x: x.value_counts().index[0])\n",
    "print(\"Most popular name by year:\\n\", most_popular_name_year)"
   ]
  },
  {
   "cell_type": "code",
   "execution_count": null,
   "metadata": {},
   "outputs": [],
   "source": [
    "#Attempt two.\n",
    "most_popular_name_year = babynames.groupby(['Year', 'Name'])['Count'].sum().reset_index()\n",
    "year_with_most_popular_name = most_popular_name_year.loc[most_popular_name_year.groupby('Year')['Count'].idxmax()]\n",
    "\n",
    "print(\"Year with the most popular name in each year:\")\n",
    "print(year_with_most_popular_name)"
   ]
  },
  {
   "cell_type": "code",
   "execution_count": null,
   "metadata": {},
   "outputs": [],
   "source": [
    "#Attempt three. This one doesn't execute.\n",
    "#First why?  What line is causing the problem?\n",
    "#What is the specific problem the error message is identifying?\n",
    "#Next what part of the line is causing the problem?\n",
    "#There is a specific variable that is causing the problem what is it and what is it's value(write some code to check it's value.)\n",
    "#Optional harder task fix the problem. \n",
    "year_with_most_popular_name = babynames.groupby(['Year', 'Name'])['Count'].sum().idxmax()\n",
    "most_popular_name_year = babynames.loc[year_with_most_popular_name]['Name']\n",
    "most_popular_name_count = babynames.loc[year_with_most_popular_name]['Count']\n",
    "\n",
    "print(\"Year with the most popular name:\", year_with_most_popular_name[0])\n",
    "print(\"Most popular name in that year:\", most_popular_name_year)\n",
    "print(\"Total count for the most popular name:\", most_popular_name_count)"
   ]
  },
  {
   "cell_type": "code",
   "execution_count": null,
   "metadata": {},
   "outputs": [],
   "source": []
  }
 ],
 "metadata": {
  "kernelspec": {
   "display_name": "jmaPy38",
   "language": "python",
   "name": "python3"
  },
  "language_info": {
   "codemirror_mode": {
    "name": "ipython",
    "version": 3
   },
   "file_extension": ".py",
   "mimetype": "text/x-python",
   "name": "python",
   "nbconvert_exporter": "python",
   "pygments_lexer": "ipython3",
   "version": "3.8.19"
  }
 },
 "nbformat": 4,
 "nbformat_minor": 4
}
